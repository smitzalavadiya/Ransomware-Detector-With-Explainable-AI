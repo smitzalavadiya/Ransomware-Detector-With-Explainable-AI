{
 "cells": [
  {
   "cell_type": "markdown",
   "metadata": {},
   "source": [
    "### Importing necessary library"
   ]
  },
  {
   "cell_type": "code",
   "execution_count": 84,
   "metadata": {},
   "outputs": [],
   "source": [
    "import pandas as pd\n",
    "import numpy as np\n",
    "import seaborn as sns\n",
    "import matplotlib.pyplot as plt\n",
    "\n",
    "from sklearn.preprocessing import LabelEncoder, StandardScaler\n",
    "from imblearn.over_sampling import SMOTE\n",
    "\n",
    "import warnings\n",
    "warnings.filterwarnings('ignore')"
   ]
  },
  {
   "cell_type": "markdown",
   "metadata": {},
   "source": [
    "### Data Pipeline Modularization"
   ]
  },
  {
   "cell_type": "code",
   "execution_count": 2,
   "metadata": {},
   "outputs": [],
   "source": [
    "def load_data(file_path):\n",
    "    \"\"\"Load dataset from a CSV file.\"\"\"\n",
    "    df = pd.read_csv(file_path)\n",
    "    return df\n",
    "\n",
    "def preprocess_data(df, target_column):\n",
    "    \"\"\"Split dataset into X, y and perform scaling.\"\"\"\n",
    "    X = df.drop(target_column, axis=1)\n",
    "    y = df[target_column]\n",
    "\n",
    "    scaler = StandardScaler()\n",
    "    X_scaled = scaler.fit_transform(X)\n",
    "\n",
    "    return X_scaled, y, scaler\n",
    "\n",
    "def split_data(X, y, test_size=0.2, random_state=42):\n",
    "    \"\"\"Split dataset into train and test sets.\"\"\"\n",
    "    return train_test_split(X, y, test_size=test_size, random_state=random_state, stratify=y)\n"
   ]
  },
  {
   "cell_type": "markdown",
   "metadata": {},
   "source": [
    "### Adding Data"
   ]
  },
  {
   "cell_type": "code",
   "execution_count": 3,
   "metadata": {},
   "outputs": [
    {
     "name": "stdout",
     "output_type": "stream",
     "text": [
      "Sampled dataset shape: (6000, 53)\n",
      "Sampled CSV saved as: ransomware_data_sample.csv\n"
     ]
    }
   ],
   "source": [
    "df = pd.read_csv('ransomware_data.csv')\n",
    "\n",
    "df_sample = df.sample(n=6000, random_state=28)\n",
    "df_sample.to_csv('ransomware_data_sample.csv', index=False)\n",
    "\n",
    "print(\"Sampled dataset shape:\", df_sample.shape)\n",
    "print(\"Sampled CSV saved as: ransomware_data_sample.csv\")"
   ]
  },
  {
   "cell_type": "markdown",
   "metadata": {},
   "source": [
    "### Checking missing value"
   ]
  },
  {
   "cell_type": "code",
   "execution_count": 4,
   "metadata": {},
   "outputs": [
    {
     "name": "stdout",
     "output_type": "stream",
     "text": [
      "Missing values per column:\n",
      " Destination Port               0\n",
      "Flow Duration                  0\n",
      "Total Fwd Packets              0\n",
      "Total Length of Fwd Packets    0\n",
      "Fwd Packet Length Max          0\n",
      "Fwd Packet Length Min          0\n",
      "Fwd Packet Length Mean         0\n",
      "Fwd Packet Length Std          0\n",
      "Bwd Packet Length Max          0\n",
      "Bwd Packet Length Min          0\n",
      "Bwd Packet Length Mean         0\n",
      "Bwd Packet Length Std          0\n",
      "Flow Bytes/s                   0\n",
      "Flow Packets/s                 0\n",
      "Flow IAT Mean                  0\n",
      "Flow IAT Std                   0\n",
      "Flow IAT Max                   0\n",
      "Flow IAT Min                   0\n",
      "Fwd IAT Total                  0\n",
      "Fwd IAT Mean                   0\n",
      "Fwd IAT Std                    0\n",
      "Fwd IAT Max                    0\n",
      "Fwd IAT Min                    0\n",
      "Bwd IAT Total                  0\n",
      "Bwd IAT Mean                   0\n",
      "Bwd IAT Std                    0\n",
      "Bwd IAT Max                    0\n",
      "Bwd IAT Min                    0\n",
      "Fwd Header Length              0\n",
      "Bwd Header Length              0\n",
      "Fwd Packets/s                  0\n",
      "Bwd Packets/s                  0\n",
      "Min Packet Length              0\n",
      "Max Packet Length              0\n",
      "Packet Length Mean             0\n",
      "Packet Length Std              0\n",
      "Packet Length Variance         0\n",
      "FIN Flag Count                 0\n",
      "PSH Flag Count                 0\n",
      "ACK Flag Count                 0\n",
      "Average Packet Size            0\n",
      "Subflow Fwd Bytes              0\n",
      "Init_Win_bytes_forward         0\n",
      "Init_Win_bytes_backward        0\n",
      "act_data_pkt_fwd               0\n",
      "min_seg_size_forward           0\n",
      "Active Mean                    0\n",
      "Active Max                     0\n",
      "Active Min                     0\n",
      "Idle Mean                      0\n",
      "Idle Max                       0\n",
      "Idle Min                       0\n",
      "Attack Type                    0\n",
      "dtype: int64\n"
     ]
    }
   ],
   "source": [
    "missing_counts = df_sample.isnull().sum()\n",
    "print(\"Missing values per column:\\n\", missing_counts)"
   ]
  },
  {
   "cell_type": "markdown",
   "metadata": {},
   "source": [
    "### Duplicate row and dropping them"
   ]
  },
  {
   "cell_type": "code",
   "execution_count": 5,
   "metadata": {},
   "outputs": [
    {
     "name": "stdout",
     "output_type": "stream",
     "text": [
      "No duplicate rows found.\n"
     ]
    }
   ],
   "source": [
    "duplicates_count = df_sample.duplicated().sum()\n",
    "if duplicates_count > 0:\n",
    "    print(f\"Number of duplicate rows: {duplicates_count}\")\n",
    "    df_sample.drop_duplicates(inplace=True)\n",
    "    print(\"Duplicates dropped.\")\n",
    "else:\n",
    "    print(\"No duplicate rows found.\")\n"
   ]
  },
  {
   "cell_type": "markdown",
   "metadata": {},
   "source": [
    "### Check unique labels first"
   ]
  },
  {
   "cell_type": "code",
   "execution_count": 6,
   "metadata": {},
   "outputs": [
    {
     "name": "stdout",
     "output_type": "stream",
     "text": [
      "Unique labels in Attack Type: ['Normal Traffic' 'DoS' 'DDoS' 'Port Scanning' 'Brute Force' 'Web Attacks'\n",
      " 'Bots']\n"
     ]
    }
   ],
   "source": [
    "print(\"Unique labels in Attack Type:\", df_sample['Attack Type'].unique())"
   ]
  },
  {
   "cell_type": "markdown",
   "metadata": {},
   "source": [
    "### Encode using sklearn's LabelEncoder"
   ]
  },
  {
   "cell_type": "code",
   "execution_count": 7,
   "metadata": {},
   "outputs": [],
   "source": [
    "encoder = LabelEncoder()\n",
    "df_sample['Attack Type Enc'] = encoder.fit_transform(df_sample['Attack Type'])"
   ]
  },
  {
   "cell_type": "markdown",
   "metadata": {},
   "source": [
    "### Show mapping"
   ]
  },
  {
   "cell_type": "code",
   "execution_count": 8,
   "metadata": {},
   "outputs": [
    {
     "name": "stdout",
     "output_type": "stream",
     "text": [
      "Label Mapping: {'Bots': 0, 'Brute Force': 1, 'DDoS': 2, 'DoS': 3, 'Normal Traffic': 4, 'Port Scanning': 5, 'Web Attacks': 6}\n"
     ]
    }
   ],
   "source": [
    "label_mapping = dict(zip(encoder.classes_, range(len(encoder.classes_))))\n",
    "print(\"Label Mapping:\", label_mapping)"
   ]
  },
  {
   "cell_type": "markdown",
   "metadata": {},
   "source": [
    "### Train-Test Split"
   ]
  },
  {
   "cell_type": "code",
   "execution_count": 9,
   "metadata": {},
   "outputs": [],
   "source": [
    "from sklearn.model_selection import train_test_split\n",
    " \n",
    "X = df_sample.drop(['Attack Type', 'Attack Type Enc'], axis=1)  \n",
    "y = df_sample['Attack Type Enc']\n",
    "\n",
    "X_train, X_test, y_train, y_test = train_test_split(\n",
    "    X, y,\n",
    "    test_size=0.2,\n",
    "    random_state=42,\n",
    "    stratify=y \n",
    ")"
   ]
  },
  {
   "cell_type": "markdown",
   "metadata": {},
   "source": [
    "### StratifiedShuffleSplit"
   ]
  },
  {
   "cell_type": "code",
   "execution_count": 10,
   "metadata": {},
   "outputs": [],
   "source": [
    "X_np = X.values\n",
    "y_np = y.values"
   ]
  },
  {
   "cell_type": "code",
   "execution_count": 11,
   "metadata": {},
   "outputs": [],
   "source": [
    "from sklearn.model_selection import StratifiedKFold\n",
    "sss = StratifiedKFold(n_splits=5, shuffle=True, random_state=42)"
   ]
  },
  {
   "cell_type": "code",
   "execution_count": 12,
   "metadata": {},
   "outputs": [],
   "source": [
    "for train_index, test_index in sss.split(X_np, y_np):\n",
    "    X_train, X_test = X_np[train_index], X_np[test_index]\n",
    "    y_train, y_test = y_np[train_index], y_np[test_index]\n"
   ]
  },
  {
   "cell_type": "code",
   "execution_count": 13,
   "metadata": {},
   "outputs": [
    {
     "name": "stdout",
     "output_type": "stream",
     "text": [
      "Stratified train-test split completed.\n"
     ]
    }
   ],
   "source": [
    "from sklearn.model_selection import StratifiedShuffleSplit\n",
    "\n",
    "# Initialize StratifiedShuffleSplit\n",
    "sss = StratifiedShuffleSplit(n_splits=1, test_size=0.2, random_state=42)\n",
    "\n",
    "# Split the data\n",
    "for train_index, test_index in sss.split(X, y):\n",
    "    X_train, X_test = X.iloc[train_index], X.iloc[test_index]\n",
    "    y_train, y_test = y.iloc[train_index], y.iloc[test_index]\n",
    "\n",
    "print(\"Stratified train-test split completed.\")\n"
   ]
  },
  {
   "cell_type": "markdown",
   "metadata": {},
   "source": [
    "### Apply SMOTE only to the training set"
   ]
  },
  {
   "cell_type": "code",
   "execution_count": 14,
   "metadata": {},
   "outputs": [
    {
     "name": "stdout",
     "output_type": "stream",
     "text": [
      "Before SMOTE: (4800, 52) Class distribution: [   3   16  238  387 3960  189    7]\n",
      "After SMOTE:  (27720, 52) Class distribution: [3960 3960 3960 3960 3960 3960 3960]\n"
     ]
    }
   ],
   "source": [
    "sm = SMOTE(random_state=42, k_neighbors=2)\n",
    "X_train_resampled, y_train_resampled = sm.fit_resample(X_train, y_train)\n",
    "\n",
    "print(\"Before SMOTE:\", X_train.shape, \"Class distribution:\", np.bincount(y_train))\n",
    "print(\"After SMOTE: \", X_train_resampled.shape, \"Class distribution:\", np.bincount(y_train_resampled))"
   ]
  },
  {
   "cell_type": "markdown",
   "metadata": {},
   "source": [
    "### Transform both the TRAIN and TEST sets"
   ]
  },
  {
   "cell_type": "code",
   "execution_count": 15,
   "metadata": {},
   "outputs": [],
   "source": [
    "from sklearn.preprocessing import StandardScaler\n",
    "scaler = StandardScaler()\n",
    "\n",
    "scaler.fit(X_train_resampled)\n",
    "\n",
    "X_train_scaled = scaler.transform(X_train_resampled)\n",
    "X_test_scaled  = scaler.transform(X_test)"
   ]
  },
  {
   "cell_type": "markdown",
   "metadata": {},
   "source": [
    "### Quick check of a feature distribution before and after scaling"
   ]
  },
  {
   "cell_type": "code",
   "execution_count": 16,
   "metadata": {},
   "outputs": [
    {
     "data": {
      "image/png": "[encoded data removed]",
      "text/plain": [
       "<Figure size 1000x400 with 2 Axes>"
      ]
     },
     "metadata": {},
     "output_type": "display_data"
    }
   ],
   "source": [
    "import matplotlib.pyplot as plt\n",
    "plt.figure(figsize=(10,4))\n",
    "\n",
    "plt.subplot(1,2,1)\n",
    "sns.histplot(X_train_resampled.iloc[:, 0], kde=True)\n",
    "plt.title(\"Feature 0 Distribution Before Scaling\")\n",
    "\n",
    "plt.subplot(1,2,2)\n",
    "sns.histplot(X_train_scaled[:,0], kde=True, color='orange')\n",
    "plt.title(\"Feature 0 Distribution After Scaling\")\n",
    "\n",
    "plt.tight_layout()\n",
    "plt.show()"
   ]
  },
  {
   "cell_type": "markdown",
   "metadata": {},
   "source": [
    "### create a series that counts the number of unique values in each column"
   ]
  },
  {
   "cell_type": "code",
   "execution_count": 17,
   "metadata": {},
   "outputs": [
    {
     "name": "stdout",
     "output_type": "stream",
     "text": [
      "No columns with a single unique value found.\n"
     ]
    }
   ],
   "source": [
    "unique_counts = df_sample.nunique()\n",
    "\n",
    "near_constant_cols = unique_counts[unique_counts <= 1].index.tolist()\n",
    "\n",
    "if near_constant_cols:\n",
    "    print(\"Columns with only 1 unique value (or all zero):\")\n",
    "    print(near_constant_cols)\n",
    "else:\n",
    "    print(\"No columns with a single unique value found.\")"
   ]
  },
  {
   "cell_type": "markdown",
   "metadata": {},
   "source": [
    "### Select columns with correlation above a threshold "
   ]
  },
  {
   "cell_type": "code",
   "execution_count": 18,
   "metadata": {},
   "outputs": [
    {
     "name": "stdout",
     "output_type": "stream",
     "text": [
      "Highly correlated columns (r > 0.95): ['Fwd Packet Length Std', 'Bwd Packet Length Mean', 'Bwd Packet Length Std', 'Fwd IAT Total', 'Fwd IAT Max', 'Fwd Header Length', 'Bwd Header Length', 'Fwd Packets/s', 'Max Packet Length', 'Packet Length Std', 'Average Packet Size', 'Subflow Fwd Bytes', 'Idle Mean', 'Idle Max', 'Idle Min']\n"
     ]
    }
   ],
   "source": [
    "corr_matrix = df_sample.corr(numeric_only=True).abs()\n",
    "\n",
    "upper = corr_matrix.where(\n",
    "    np.triu(np.ones(corr_matrix.shape), k=1).astype(bool)\n",
    ")\n",
    "\n",
    "high_corr_threshold = 0.95\n",
    "to_drop_corr = [\n",
    "    column for column in upper.columns\n",
    "    if any(upper[column] > high_corr_threshold)\n",
    "]\n",
    "\n",
    "print(\"Highly correlated columns (r > 0.95):\", to_drop_corr)"
   ]
  },
  {
   "cell_type": "code",
   "execution_count": 19,
   "metadata": {},
   "outputs": [
    {
     "name": "stdout",
     "output_type": "stream",
     "text": [
      "Dropped highly correlated columns: ['Fwd Packet Length Std', 'Bwd Packet Length Mean', 'Bwd Packet Length Std', 'Fwd IAT Total', 'Fwd IAT Max', 'Fwd Header Length', 'Bwd Header Length', 'Fwd Packets/s', 'Max Packet Length', 'Packet Length Std', 'Average Packet Size', 'Subflow Fwd Bytes', 'Idle Mean', 'Idle Max', 'Idle Min']\n"
     ]
    }
   ],
   "source": [
    "df_sample.drop(columns=to_drop_corr, inplace=True)\n",
    "print(\"Dropped highly correlated columns:\", to_drop_corr)"
   ]
  },
  {
   "cell_type": "markdown",
   "metadata": {},
   "source": [
    "### Changed from df_clean to df"
   ]
  },
  {
   "cell_type": "code",
   "execution_count": 20,
   "metadata": {},
   "outputs": [],
   "source": [
    "df_sample = df.sample(frac=0.05, random_state=42)"
   ]
  },
  {
   "cell_type": "code",
   "execution_count": 21,
   "metadata": {},
   "outputs": [],
   "source": [
    "feature_cols = [col for col in df_sample.columns   \n",
    "                if col not in ['Attack Type', 'Attack Type Enc']]\n",
    "target_col = 'Attack Type' \n",
    "X = df_sample[feature_cols] \n",
    "y = df_sample[target_col]   "
   ]
  },
  {
   "cell_type": "markdown",
   "metadata": {},
   "source": [
    "### Train and Test set size"
   ]
  },
  {
   "cell_type": "code",
   "execution_count": 22,
   "metadata": {},
   "outputs": [
    {
     "name": "stdout",
     "output_type": "stream",
     "text": [
      "Training set size: (100830, 52) Class distribution: {'Normal Traffic': 83771, 'DoS': 7736, 'DDoS': 5154, 'Port Scanning': 3617, 'Brute Force': 382, 'Web Attacks': 88, 'Bots': 82}\n",
      "Test set size:     (25208, 52) Class distribution: {'Normal Traffic': 20943, 'DoS': 1934, 'DDoS': 1289, 'Port Scanning': 905, 'Brute Force': 95, 'Web Attacks': 22, 'Bots': 20}\n"
     ]
    }
   ],
   "source": [
    "from sklearn.model_selection import train_test_split\n",
    "\n",
    "X_train, X_test, y_train, y_test = train_test_split(\n",
    "    X,\n",
    "    y,\n",
    "    test_size=0.2,         \n",
    "    random_state=42,       \n",
    "    stratify=y              \n",
    ")\n",
    "\n",
    "print(\"Training set size:\", X_train.shape,\n",
    "      \"Class distribution:\", y_train.value_counts().to_dict())\n",
    "print(\"Test set size:    \", X_test.shape,\n",
    "      \"Class distribution:\", y_test.value_counts().to_dict())\n"
   ]
  },
  {
   "cell_type": "markdown",
   "metadata": {},
   "source": [
    "### Before SMOTE and after SMOTE"
   ]
  },
  {
   "cell_type": "code",
   "execution_count": 23,
   "metadata": {},
   "outputs": [
    {
     "name": "stdout",
     "output_type": "stream",
     "text": [
      "Before SMOTE:\n",
      "Attack Type\n",
      "Normal Traffic    83771\n",
      "DoS                7736\n",
      "DDoS               5154\n",
      "Port Scanning      3617\n",
      "Brute Force         382\n",
      "Web Attacks          88\n",
      "Bots                 82\n",
      "Name: count, dtype: int64\n",
      "\n",
      "After SMOTE:\n",
      "Attack Type\n",
      "Normal Traffic    83771\n",
      "DoS               83771\n",
      "DDoS              83771\n",
      "Port Scanning     83771\n",
      "Brute Force       83771\n",
      "Web Attacks       83771\n",
      "Bots              83771\n",
      "Name: count, dtype: int64\n"
     ]
    }
   ],
   "source": [
    "from imblearn.over_sampling import SMOTE\n",
    "\n",
    "sm = SMOTE(random_state=42)\n",
    "X_train_res, y_train_res = sm.fit_resample(X_train, y_train)\n",
    "\n",
    "print(\"Before SMOTE:\")\n",
    "print(y_train.value_counts())\n",
    "\n",
    "print(\"\\nAfter SMOTE:\")\n",
    "print(y_train_res.value_counts())"
   ]
  },
  {
   "cell_type": "markdown",
   "metadata": {},
   "source": [
    "### Fit on training set only (to avoid data leakage)"
   ]
  },
  {
   "cell_type": "code",
   "execution_count": 24,
   "metadata": {},
   "outputs": [],
   "source": [
    "from sklearn.preprocessing import StandardScaler\n",
    "\n",
    "scaler = StandardScaler()\n",
    "\n",
    "scaler.fit(X_train_res)\n",
    "\n",
    "# Transform both training and test sets\n",
    "X_train_scaled = scaler.transform(X_train_res)\n",
    "X_test_scaled  = scaler.transform(X_test)"
   ]
  },
  {
   "cell_type": "markdown",
   "metadata": {},
   "source": [
    "### Initialize the model"
   ]
  },
  {
   "cell_type": "code",
   "execution_count": 25,
   "metadata": {},
   "outputs": [],
   "source": [
    "from sklearn.ensemble import RandomForestClassifier\n",
    "from sklearn.metrics import accuracy_score, classification_report, confusion_matrix\n",
    "\n",
    "rf_clf = RandomForestClassifier(\n",
    "    n_estimators=100,\n",
    "    random_state=42,\n",
    "    n_jobs=-1  \n",
    ")\n",
    "\n",
    "# Train on the SMOTE-resampled + scaled training data\n",
    "rf_clf.fit(X_train_scaled, y_train_res)\n",
    "\n",
    "# Predict on the scaled test data\n",
    "y_pred = rf_clf.predict(X_test_scaled)\n"
   ]
  },
  {
   "cell_type": "markdown",
   "metadata": {},
   "source": [
    "### Testing accuracy "
   ]
  },
  {
   "cell_type": "code",
   "execution_count": 26,
   "metadata": {},
   "outputs": [
    {
     "name": "stdout",
     "output_type": "stream",
     "text": [
      "Accuracy: 0.9976991431291653\n",
      "\n",
      "Classification Report:\n",
      "                precision    recall  f1-score   support\n",
      "\n",
      "          Bots       0.55      0.80      0.65        20\n",
      "   Brute Force       1.00      0.97      0.98        95\n",
      "          DDoS       1.00      1.00      1.00      1289\n",
      "           DoS       0.99      1.00      0.99      1934\n",
      "Normal Traffic       1.00      1.00      1.00     20943\n",
      " Port Scanning       0.99      1.00      0.99       905\n",
      "   Web Attacks       0.91      0.95      0.93        22\n",
      "\n",
      "      accuracy                           1.00     25208\n",
      "     macro avg       0.92      0.96      0.94     25208\n",
      "  weighted avg       1.00      1.00      1.00     25208\n",
      "\n"
     ]
    }
   ],
   "source": [
    "acc = accuracy_score(y_test, y_pred)\n",
    "print(\"Accuracy:\", acc)\n",
    "\n",
    "print(\"\\nClassification Report:\")\n",
    "print(classification_report(y_test, y_pred))"
   ]
  },
  {
   "cell_type": "markdown",
   "metadata": {},
   "source": [
    "### Confusion matrix"
   ]
  },
  {
   "cell_type": "code",
   "execution_count": 27,
   "metadata": {},
   "outputs": [
    {
     "name": "stdout",
     "output_type": "stream",
     "text": [
      "Confusion Matrix:\n",
      " [[   16     0     0     0     4     0     0]\n",
      " [    0    92     0     1     2     0     0]\n",
      " [    0     0  1286     0     3     0     0]\n",
      " [    0     0     0  1925     8     0     1]\n",
      " [   13     0     0    10 20909    10     1]\n",
      " [    0     0     0     0     4   901     0]\n",
      " [    0     0     0     0     1     0    21]]\n"
     ]
    }
   ],
   "source": [
    "cm = confusion_matrix(y_test, y_pred)\n",
    "print(\"Confusion Matrix:\\n\", cm)"
   ]
  },
  {
   "cell_type": "markdown",
   "metadata": {},
   "source": [
    "### Model tunning and Advanced techniques"
   ]
  },
  {
   "cell_type": "code",
   "execution_count": 28,
   "metadata": {},
   "outputs": [
    {
     "name": "stdout",
     "output_type": "stream",
     "text": [
      "Fitting 5 folds for each of 10 candidates, totalling 50 fits\n",
      "Best Parameters: {'n_estimators': 100, 'min_samples_split': 2, 'min_samples_leaf': 2, 'max_depth': None, 'bootstrap': False}\n"
     ]
    }
   ],
   "source": [
    "from sklearn.model_selection import RandomizedSearchCV\n",
    "from sklearn.ensemble import RandomForestClassifier\n",
    "\n",
    "# Define hyperparameter grid\n",
    "param_grid = {\n",
    "    'n_estimators': [50, 100, 150, 200],\n",
    "    'max_depth': [None, 10, 20, 30],\n",
    "    'min_samples_split': [2, 5, 10],\n",
    "    'min_samples_leaf': [1, 2, 4],\n",
    "    'bootstrap': [True, False]\n",
    "}\n",
    "\n",
    "# Initialize Random Forest\n",
    "rf_model = RandomForestClassifier(random_state=42)\n",
    "\n",
    "# Setup RandomizedSearchCV\n",
    "random_search = RandomizedSearchCV(estimator=rf_model,\n",
    "                                   param_distributions=param_grid,\n",
    "                                   n_iter=10,\n",
    "                                   cv=5,\n",
    "                                   verbose=2,\n",
    "                                   random_state=42,\n",
    "                                   n_jobs=-1)\n",
    "\n",
    "# Fit the randomized search model\n",
    "random_search.fit(X_train, y_train)\n",
    "\n",
    "# Best parameters and best model\n",
    "print(\"Best Parameters:\", random_search.best_params_)\n",
    "best_rf_model = random_search.best_estimator_\n"
   ]
  },
  {
   "cell_type": "markdown",
   "metadata": {},
   "source": [
    "###  XGBoost"
   ]
  },
  {
   "cell_type": "markdown",
   "metadata": {},
   "source": [
    "# A) Split once"
   ]
  },
  {
   "cell_type": "code",
   "execution_count": 29,
   "metadata": {},
   "outputs": [],
   "source": [
    "X = df.drop('Attack Type', axis=1)\n",
    "y = df['Attack Type']\n",
    "\n",
    "from sklearn.model_selection import train_test_split\n",
    "X_train, X_test, y_train, y_test = train_test_split(\n",
    "    X, y, test_size=0.2, random_state=42, stratify=y\n",
    ")"
   ]
  },
  {
   "cell_type": "markdown",
   "metadata": {},
   "source": [
    "# B) Oversample only the training set"
   ]
  },
  {
   "cell_type": "code",
   "execution_count": 30,
   "metadata": {},
   "outputs": [],
   "source": [
    "from imblearn.over_sampling import SMOTE\n",
    "sm = SMOTE(random_state=42)\n",
    "X_train_res, y_train_res = sm.fit_resample(X_train, y_train)"
   ]
  },
  {
   "cell_type": "markdown",
   "metadata": {},
   "source": [
    "# C) Scale features"
   ]
  },
  {
   "cell_type": "code",
   "execution_count": 31,
   "metadata": {},
   "outputs": [],
   "source": [
    "from sklearn.preprocessing import StandardScaler\n",
    "scaler = StandardScaler()\n",
    "X_train_scaled = scaler.fit_transform(X_train_res)\n",
    "X_test_scaled  = scaler.transform(X_test)  "
   ]
  },
  {
   "cell_type": "markdown",
   "metadata": {},
   "source": [
    "# D) Encode string labels (XGBoost needs numeric)"
   ]
  },
  {
   "cell_type": "code",
   "execution_count": 32,
   "metadata": {},
   "outputs": [
    {
     "name": "stdout",
     "output_type": "stream",
     "text": [
      "X_train_scaled: (11732315, 52)\n",
      "y_train_encoded: (11732315,)\n",
      "X_test_scaled: (504151, 52)\n",
      "y_test_encoded: (504151,)\n"
     ]
    }
   ],
   "source": [
    "from sklearn.preprocessing import LabelEncoder\n",
    "le = LabelEncoder()\n",
    "y_train_encoded = le.fit_transform(y_train_res)\n",
    "y_test_encoded  = le.transform(y_test)\n",
    "\n",
    "print(\"X_train_scaled:\", X_train_scaled.shape)  \n",
    "print(\"y_train_encoded:\", y_train_encoded.shape) \n",
    "\n",
    "print(\"X_test_scaled:\", X_test_scaled.shape)\n",
    "print(\"y_test_encoded:\", y_test_encoded.shape)"
   ]
  },
  {
   "cell_type": "markdown",
   "metadata": {},
   "source": [
    "# E) Fit XGBoost and Evaluate"
   ]
  },
  {
   "cell_type": "code",
   "execution_count": 33,
   "metadata": {},
   "outputs": [
    {
     "name": "stdout",
     "output_type": "stream",
     "text": [
      "Accuracy: 0.998675000148765\n",
      "Report:\n",
      "               precision    recall  f1-score   support\n",
      "\n",
      "           0       0.53      0.98      0.69       389\n",
      "           1       1.00      1.00      1.00      1830\n",
      "           2       1.00      1.00      1.00     25603\n",
      "           3       1.00      1.00      1.00     38749\n",
      "           4       1.00      1.00      1.00    419012\n",
      "           5       0.99      1.00      0.99     18139\n",
      "           6       0.98      1.00      0.99       429\n",
      "\n",
      "    accuracy                           1.00    504151\n",
      "   macro avg       0.93      1.00      0.95    504151\n",
      "weighted avg       1.00      1.00      1.00    504151\n",
      "\n"
     ]
    }
   ],
   "source": [
    "from xgboost import XGBClassifier\n",
    "xgb_clf = XGBClassifier(random_state=42)\n",
    "xgb_clf.fit(X_train_scaled, y_train_encoded)\n",
    " \n",
    "y_pred_xgb = xgb_clf.predict(X_test_scaled)\n",
    "from sklearn.metrics import accuracy_score, classification_report\n",
    "print(\"Accuracy:\", accuracy_score(y_test_encoded, y_pred_xgb))\n",
    "print(\"Report:\\n\", classification_report(y_test_encoded, y_pred_xgb))"
   ]
  },
  {
   "cell_type": "markdown",
   "metadata": {},
   "source": [
    "###  using joblib"
   ]
  },
  {
   "cell_type": "code",
   "execution_count": 34,
   "metadata": {},
   "outputs": [
    {
     "name": "stdout",
     "output_type": "stream",
     "text": [
      "[0]\n"
     ]
    }
   ],
   "source": [
    "from joblib import dump, load\n",
    "from sklearn.ensemble import RandomForestClassifier\n",
    "\n",
    "# train a toy model\n",
    "model = RandomForestClassifier()\n",
    "model.fit([[0, 0], [1, 1]], [0, 1])\n",
    "\n",
    "# save it\n",
    "dump(model, 'test_model.joblib')\n",
    "\n",
    "# load it back\n",
    "loaded_model = load('test_model.joblib')\n",
    "\n",
    "print(loaded_model.predict([[0, 0]]))\n"
   ]
  },
  {
   "cell_type": "code",
   "execution_count": 35,
   "metadata": {},
   "outputs": [],
   "source": [
    "from joblib import load\n",
    "\n",
    "model_loaded = load('ransomware_detector.joblib')\n",
    "\n"
   ]
  },
  {
   "cell_type": "code",
   "execution_count": 36,
   "metadata": {},
   "outputs": [
    {
     "data": {
      "text/plain": [
       "['label_encoder.joblib']"
      ]
     },
     "execution_count": 36,
     "metadata": {},
     "output_type": "execute_result"
    }
   ],
   "source": [
    "from joblib import dump\n",
    "\n",
    "label_encoder = LabelEncoder()\n",
    "\n",
    "dump(scaler, 'scaler.joblib')\n",
    "dump(label_encoder, 'label_encoder.joblib')\n"
   ]
  },
  {
   "cell_type": "code",
   "execution_count": 37,
   "metadata": {},
   "outputs": [],
   "source": [
    "from joblib import load\n",
    "\n",
    "scaler_loaded = load('scaler.joblib')\n",
    "label_encoder_loaded = load('label_encoder.joblib')"
   ]
  },
  {
   "cell_type": "code",
   "execution_count": 38,
   "metadata": {},
   "outputs": [],
   "source": [
    "X_new = X_test \n",
    "\n",
    "X_new_scaled = scaler_loaded.transform(X_new)\n",
    "y_pred = model_loaded.predict(X_new_scaled)\n"
   ]
  },
  {
   "cell_type": "markdown",
   "metadata": {},
   "source": [
    "### With RandomForestClassifier"
   ]
  },
  {
   "cell_type": "code",
   "execution_count": 39,
   "metadata": {},
   "outputs": [
    {
     "data": {
      "text/html": [
       "<style>#sk-container-id-1 {\n",
       "  /* Definition of color scheme common for light and dark mode */\n",
       "  --sklearn-color-text: #000;\n",
       "  --sklearn-color-text-muted: #666;\n",
       "  --sklearn-color-line: gray;\n",
       "  /* Definition of color scheme for unfitted estimators */\n",
       "  --sklearn-color-unfitted-level-0: #fff5e6;\n",
       "  --sklearn-color-unfitted-level-1: #f6e4d2;\n",
       "  --sklearn-color-unfitted-level-2: #ffe0b3;\n",
       "  --sklearn-color-unfitted-level-3: chocolate;\n",
       "  /* Definition of color scheme for fitted estimators */\n",
       "  --sklearn-color-fitted-level-0: #f0f8ff;\n",
       "  --sklearn-color-fitted-level-1: #d4ebff;\n",
       "  --sklearn-color-fitted-level-2: #b3dbfd;\n",
       "  --sklearn-color-fitted-level-3: cornflowerblue;\n",
       "\n",
       "  /* Specific color for light theme */\n",
       "  --sklearn-color-text-on-default-background: var(--sg-text-color, var(--theme-code-foreground, var(--jp-content-font-color1, black)));\n",
       "  --sklearn-color-background: var(--sg-background-color, var(--theme-background, var(--jp-layout-color0, white)));\n",
       "  --sklearn-color-border-box: var(--sg-text-color, var(--theme-code-foreground, var(--jp-content-font-color1, black)));\n",
       "  --sklearn-color-icon: #696969;\n",
       "\n",
       "  @media (prefers-color-scheme: dark) {\n",
       "    /* Redefinition of color scheme for dark theme */\n",
       "    --sklearn-color-text-on-default-background: var(--sg-text-color, var(--theme-code-foreground, var(--jp-content-font-color1, white)));\n",
       "    --sklearn-color-background: var(--sg-background-color, var(--theme-background, var(--jp-layout-color0, #111)));\n",
       "    --sklearn-color-border-box: var(--sg-text-color, var(--theme-code-foreground, var(--jp-content-font-color1, white)));\n",
       "    --sklearn-color-icon: #878787;\n",
       "  }\n",
       "}\n",
       "\n",
       "#sk-container-id-1 {\n",
       "  color: var(--sklearn-color-text);\n",
       "}\n",
       "\n",
       "#sk-container-id-1 pre {\n",
       "  padding: 0;\n",
       "}\n",
       "\n",
       "#sk-container-id-1 input.sk-hidden--visually {\n",
       "  border: 0;\n",
       "  clip: rect(1px 1px 1px 1px);\n",
       "  clip: rect(1px, 1px, 1px, 1px);\n",
       "  height: 1px;\n",
       "  margin: -1px;\n",
       "  overflow: hidden;\n",
       "  padding: 0;\n",
       "  position: absolute;\n",
       "  width: 1px;\n",
       "}\n",
       "\n",
       "#sk-container-id-1 div.sk-dashed-wrapped {\n",
       "  border: 1px dashed var(--sklearn-color-line);\n",
       "  margin: 0 0.4em 0.5em 0.4em;\n",
       "  box-sizing: border-box;\n",
       "  padding-bottom: 0.4em;\n",
       "  background-color: var(--sklearn-color-background);\n",
       "}\n",
       "\n",
       "#sk-container-id-1 div.sk-container {\n",
       "  /* jupyter's `normalize.less` sets `[hidden] { display: none; }`\n",
       "     but bootstrap.min.css set `[hidden] { display: none !important; }`\n",
       "     so we also need the `!important` here to be able to override the\n",
       "     default hidden behavior on the sphinx rendered scikit-learn.org.\n",
       "     See: https://github.com/scikit-learn/scikit-learn/issues/21755 */\n",
       "  display: inline-block !important;\n",
       "  position: relative;\n",
       "}\n",
       "\n",
       "#sk-container-id-1 div.sk-text-repr-fallback {\n",
       "  display: none;\n",
       "}\n",
       "\n",
       "div.sk-parallel-item,\n",
       "div.sk-serial,\n",
       "div.sk-item {\n",
       "  /* draw centered vertical line to link estimators */\n",
       "  background-image: linear-gradient(var(--sklearn-color-text-on-default-background), var(--sklearn-color-text-on-default-background));\n",
       "  background-size: 2px 100%;\n",
       "  background-repeat: no-repeat;\n",
       "  background-position: center center;\n",
       "}\n",
       "\n",
       "/* Parallel-specific style estimator block */\n",
       "\n",
       "#sk-container-id-1 div.sk-parallel-item::after {\n",
       "  content: \"\";\n",
       "  width: 100%;\n",
       "  border-bottom: 2px solid var(--sklearn-color-text-on-default-background);\n",
       "  flex-grow: 1;\n",
       "}\n",
       "\n",
       "#sk-container-id-1 div.sk-parallel {\n",
       "  display: flex;\n",
       "  align-items: stretch;\n",
       "  justify-content: center;\n",
       "  background-color: var(--sklearn-color-background);\n",
       "  position: relative;\n",
       "}\n",
       "\n",
       "#sk-container-id-1 div.sk-parallel-item {\n",
       "  display: flex;\n",
       "  flex-direction: column;\n",
       "}\n",
       "\n",
       "#sk-container-id-1 div.sk-parallel-item:first-child::after {\n",
       "  align-self: flex-end;\n",
       "  width: 50%;\n",
       "}\n",
       "\n",
       "#sk-container-id-1 div.sk-parallel-item:last-child::after {\n",
       "  align-self: flex-start;\n",
       "  width: 50%;\n",
       "}\n",
       "\n",
       "#sk-container-id-1 div.sk-parallel-item:only-child::after {\n",
       "  width: 0;\n",
       "}\n",
       "\n",
       "/* Serial-specific style estimator block */\n",
       "\n",
       "#sk-container-id-1 div.sk-serial {\n",
       "  display: flex;\n",
       "  flex-direction: column;\n",
       "  align-items: center;\n",
       "  background-color: var(--sklearn-color-background);\n",
       "  padding-right: 1em;\n",
       "  padding-left: 1em;\n",
       "}\n",
       "\n",
       "\n",
       "/* Toggleable style: style used for estimator/Pipeline/ColumnTransformer box that is\n",
       "clickable and can be expanded/collapsed.\n",
       "- Pipeline and ColumnTransformer use this feature and define the default style\n",
       "- Estimators will overwrite some part of the style using the `sk-estimator` class\n",
       "*/\n",
       "\n",
       "/* Pipeline and ColumnTransformer style (default) */\n",
       "\n",
       "#sk-container-id-1 div.sk-toggleable {\n",
       "  /* Default theme specific background. It is overwritten whether we have a\n",
       "  specific estimator or a Pipeline/ColumnTransformer */\n",
       "  background-color: var(--sklearn-color-background);\n",
       "}\n",
       "\n",
       "/* Toggleable label */\n",
       "#sk-container-id-1 label.sk-toggleable__label {\n",
       "  cursor: pointer;\n",
       "  display: flex;\n",
       "  width: 100%;\n",
       "  margin-bottom: 0;\n",
       "  padding: 0.5em;\n",
       "  box-sizing: border-box;\n",
       "  text-align: center;\n",
       "  align-items: start;\n",
       "  justify-content: space-between;\n",
       "  gap: 0.5em;\n",
       "}\n",
       "\n",
       "#sk-container-id-1 label.sk-toggleable__label .caption {\n",
       "  font-size: 0.6rem;\n",
       "  font-weight: lighter;\n",
       "  color: var(--sklearn-color-text-muted);\n",
       "}\n",
       "\n",
       "#sk-container-id-1 label.sk-toggleable__label-arrow:before {\n",
       "  /* Arrow on the left of the label */\n",
       "  content: \"▸\";\n",
       "  float: left;\n",
       "  margin-right: 0.25em;\n",
       "  color: var(--sklearn-color-icon);\n",
       "}\n",
       "\n",
       "#sk-container-id-1 label.sk-toggleable__label-arrow:hover:before {\n",
       "  color: var(--sklearn-color-text);\n",
       "}\n",
       "\n",
       "/* Toggleable content - dropdown */\n",
       "\n",
       "#sk-container-id-1 div.sk-toggleable__content {\n",
       "  max-height: 0;\n",
       "  max-width: 0;\n",
       "  overflow: hidden;\n",
       "  text-align: left;\n",
       "  /* unfitted */\n",
       "  background-color: var(--sklearn-color-unfitted-level-0);\n",
       "}\n",
       "\n",
       "#sk-container-id-1 div.sk-toggleable__content.fitted {\n",
       "  /* fitted */\n",
       "  background-color: var(--sklearn-color-fitted-level-0);\n",
       "}\n",
       "\n",
       "#sk-container-id-1 div.sk-toggleable__content pre {\n",
       "  margin: 0.2em;\n",
       "  border-radius: 0.25em;\n",
       "  color: var(--sklearn-color-text);\n",
       "  /* unfitted */\n",
       "  background-color: var(--sklearn-color-unfitted-level-0);\n",
       "}\n",
       "\n",
       "#sk-container-id-1 div.sk-toggleable__content.fitted pre {\n",
       "  /* unfitted */\n",
       "  background-color: var(--sklearn-color-fitted-level-0);\n",
       "}\n",
       "\n",
       "#sk-container-id-1 input.sk-toggleable__control:checked~div.sk-toggleable__content {\n",
       "  /* Expand drop-down */\n",
       "  max-height: 200px;\n",
       "  max-width: 100%;\n",
       "  overflow: auto;\n",
       "}\n",
       "\n",
       "#sk-container-id-1 input.sk-toggleable__control:checked~label.sk-toggleable__label-arrow:before {\n",
       "  content: \"▾\";\n",
       "}\n",
       "\n",
       "/* Pipeline/ColumnTransformer-specific style */\n",
       "\n",
       "#sk-container-id-1 div.sk-label input.sk-toggleable__control:checked~label.sk-toggleable__label {\n",
       "  color: var(--sklearn-color-text);\n",
       "  background-color: var(--sklearn-color-unfitted-level-2);\n",
       "}\n",
       "\n",
       "#sk-container-id-1 div.sk-label.fitted input.sk-toggleable__control:checked~label.sk-toggleable__label {\n",
       "  background-color: var(--sklearn-color-fitted-level-2);\n",
       "}\n",
       "\n",
       "/* Estimator-specific style */\n",
       "\n",
       "/* Colorize estimator box */\n",
       "#sk-container-id-1 div.sk-estimator input.sk-toggleable__control:checked~label.sk-toggleable__label {\n",
       "  /* unfitted */\n",
       "  background-color: var(--sklearn-color-unfitted-level-2);\n",
       "}\n",
       "\n",
       "#sk-container-id-1 div.sk-estimator.fitted input.sk-toggleable__control:checked~label.sk-toggleable__label {\n",
       "  /* fitted */\n",
       "  background-color: var(--sklearn-color-fitted-level-2);\n",
       "}\n",
       "\n",
       "#sk-container-id-1 div.sk-label label.sk-toggleable__label,\n",
       "#sk-container-id-1 div.sk-label label {\n",
       "  /* The background is the default theme color */\n",
       "  color: var(--sklearn-color-text-on-default-background);\n",
       "}\n",
       "\n",
       "/* On hover, darken the color of the background */\n",
       "#sk-container-id-1 div.sk-label:hover label.sk-toggleable__label {\n",
       "  color: var(--sklearn-color-text);\n",
       "  background-color: var(--sklearn-color-unfitted-level-2);\n",
       "}\n",
       "\n",
       "/* Label box, darken color on hover, fitted */\n",
       "#sk-container-id-1 div.sk-label.fitted:hover label.sk-toggleable__label.fitted {\n",
       "  color: var(--sklearn-color-text);\n",
       "  background-color: var(--sklearn-color-fitted-level-2);\n",
       "}\n",
       "\n",
       "/* Estimator label */\n",
       "\n",
       "#sk-container-id-1 div.sk-label label {\n",
       "  font-family: monospace;\n",
       "  font-weight: bold;\n",
       "  display: inline-block;\n",
       "  line-height: 1.2em;\n",
       "}\n",
       "\n",
       "#sk-container-id-1 div.sk-label-container {\n",
       "  text-align: center;\n",
       "}\n",
       "\n",
       "/* Estimator-specific */\n",
       "#sk-container-id-1 div.sk-estimator {\n",
       "  font-family: monospace;\n",
       "  border: 1px dotted var(--sklearn-color-border-box);\n",
       "  border-radius: 0.25em;\n",
       "  box-sizing: border-box;\n",
       "  margin-bottom: 0.5em;\n",
       "  /* unfitted */\n",
       "  background-color: var(--sklearn-color-unfitted-level-0);\n",
       "}\n",
       "\n",
       "#sk-container-id-1 div.sk-estimator.fitted {\n",
       "  /* fitted */\n",
       "  background-color: var(--sklearn-color-fitted-level-0);\n",
       "}\n",
       "\n",
       "/* on hover */\n",
       "#sk-container-id-1 div.sk-estimator:hover {\n",
       "  /* unfitted */\n",
       "  background-color: var(--sklearn-color-unfitted-level-2);\n",
       "}\n",
       "\n",
       "#sk-container-id-1 div.sk-estimator.fitted:hover {\n",
       "  /* fitted */\n",
       "  background-color: var(--sklearn-color-fitted-level-2);\n",
       "}\n",
       "\n",
       "/* Specification for estimator info (e.g. \"i\" and \"?\") */\n",
       "\n",
       "/* Common style for \"i\" and \"?\" */\n",
       "\n",
       ".sk-estimator-doc-link,\n",
       "a:link.sk-estimator-doc-link,\n",
       "a:visited.sk-estimator-doc-link {\n",
       "  float: right;\n",
       "  font-size: smaller;\n",
       "  line-height: 1em;\n",
       "  font-family: monospace;\n",
       "  background-color: var(--sklearn-color-background);\n",
       "  border-radius: 1em;\n",
       "  height: 1em;\n",
       "  width: 1em;\n",
       "  text-decoration: none !important;\n",
       "  margin-left: 0.5em;\n",
       "  text-align: center;\n",
       "  /* unfitted */\n",
       "  border: var(--sklearn-color-unfitted-level-1) 1pt solid;\n",
       "  color: var(--sklearn-color-unfitted-level-1);\n",
       "}\n",
       "\n",
       ".sk-estimator-doc-link.fitted,\n",
       "a:link.sk-estimator-doc-link.fitted,\n",
       "a:visited.sk-estimator-doc-link.fitted {\n",
       "  /* fitted */\n",
       "  border: var(--sklearn-color-fitted-level-1) 1pt solid;\n",
       "  color: var(--sklearn-color-fitted-level-1);\n",
       "}\n",
       "\n",
       "/* On hover */\n",
       "div.sk-estimator:hover .sk-estimator-doc-link:hover,\n",
       ".sk-estimator-doc-link:hover,\n",
       "div.sk-label-container:hover .sk-estimator-doc-link:hover,\n",
       ".sk-estimator-doc-link:hover {\n",
       "  /* unfitted */\n",
       "  background-color: var(--sklearn-color-unfitted-level-3);\n",
       "  color: var(--sklearn-color-background);\n",
       "  text-decoration: none;\n",
       "}\n",
       "\n",
       "div.sk-estimator.fitted:hover .sk-estimator-doc-link.fitted:hover,\n",
       ".sk-estimator-doc-link.fitted:hover,\n",
       "div.sk-label-container:hover .sk-estimator-doc-link.fitted:hover,\n",
       ".sk-estimator-doc-link.fitted:hover {\n",
       "  /* fitted */\n",
       "  background-color: var(--sklearn-color-fitted-level-3);\n",
       "  color: var(--sklearn-color-background);\n",
       "  text-decoration: none;\n",
       "}\n",
       "\n",
       "/* Span, style for the box shown on hovering the info icon */\n",
       ".sk-estimator-doc-link span {\n",
       "  display: none;\n",
       "  z-index: 9999;\n",
       "  position: relative;\n",
       "  font-weight: normal;\n",
       "  right: .2ex;\n",
       "  padding: .5ex;\n",
       "  margin: .5ex;\n",
       "  width: min-content;\n",
       "  min-width: 20ex;\n",
       "  max-width: 50ex;\n",
       "  color: var(--sklearn-color-text);\n",
       "  box-shadow: 2pt 2pt 4pt #999;\n",
       "  /* unfitted */\n",
       "  background: var(--sklearn-color-unfitted-level-0);\n",
       "  border: .5pt solid var(--sklearn-color-unfitted-level-3);\n",
       "}\n",
       "\n",
       ".sk-estimator-doc-link.fitted span {\n",
       "  /* fitted */\n",
       "  background: var(--sklearn-color-fitted-level-0);\n",
       "  border: var(--sklearn-color-fitted-level-3);\n",
       "}\n",
       "\n",
       ".sk-estimator-doc-link:hover span {\n",
       "  display: block;\n",
       "}\n",
       "\n",
       "/* \"?\"-specific style due to the `<a>` HTML tag */\n",
       "\n",
       "#sk-container-id-1 a.estimator_doc_link {\n",
       "  float: right;\n",
       "  font-size: 1rem;\n",
       "  line-height: 1em;\n",
       "  font-family: monospace;\n",
       "  background-color: var(--sklearn-color-background);\n",
       "  border-radius: 1rem;\n",
       "  height: 1rem;\n",
       "  width: 1rem;\n",
       "  text-decoration: none;\n",
       "  /* unfitted */\n",
       "  color: var(--sklearn-color-unfitted-level-1);\n",
       "  border: var(--sklearn-color-unfitted-level-1) 1pt solid;\n",
       "}\n",
       "\n",
       "#sk-container-id-1 a.estimator_doc_link.fitted {\n",
       "  /* fitted */\n",
       "  border: var(--sklearn-color-fitted-level-1) 1pt solid;\n",
       "  color: var(--sklearn-color-fitted-level-1);\n",
       "}\n",
       "\n",
       "/* On hover */\n",
       "#sk-container-id-1 a.estimator_doc_link:hover {\n",
       "  /* unfitted */\n",
       "  background-color: var(--sklearn-color-unfitted-level-3);\n",
       "  color: var(--sklearn-color-background);\n",
       "  text-decoration: none;\n",
       "}\n",
       "\n",
       "#sk-container-id-1 a.estimator_doc_link.fitted:hover {\n",
       "  /* fitted */\n",
       "  background-color: var(--sklearn-color-fitted-level-3);\n",
       "}\n",
       "</style><div id=\"sk-container-id-1\" class=\"sk-top-container\"><div class=\"sk-text-repr-fallback\"><pre>RandomForestClassifier(n_estimators=50, random_state=42)</pre><b>In a Jupyter environment, please rerun this cell to show the HTML representation or trust the notebook. <br />On GitHub, the HTML representation is unable to render, please try loading this page with nbviewer.org.</b></div><div class=\"sk-container\" hidden><div class=\"sk-item\"><div class=\"sk-estimator fitted sk-toggleable\"><input class=\"sk-toggleable__control sk-hidden--visually\" id=\"sk-estimator-id-1\" type=\"checkbox\" checked><label for=\"sk-estimator-id-1\" class=\"sk-toggleable__label fitted sk-toggleable__label-arrow\"><div><div>RandomForestClassifier</div></div><div><a class=\"sk-estimator-doc-link fitted\" rel=\"noreferrer\" target=\"_blank\" href=\"https://scikit-learn.org/1.6/modules/generated/sklearn.ensemble.RandomForestClassifier.html\">?<span>Documentation for RandomForestClassifier</span></a><span class=\"sk-estimator-doc-link fitted\">i<span>Fitted</span></span></div></label><div class=\"sk-toggleable__content fitted\"><pre>RandomForestClassifier(n_estimators=50, random_state=42)</pre></div> </div></div></div></div>"
      ],
      "text/plain": [
       "RandomForestClassifier(n_estimators=50, random_state=42)"
      ]
     },
     "execution_count": 39,
     "metadata": {},
     "output_type": "execute_result"
    }
   ],
   "source": [
    "from sklearn.ensemble import RandomForestClassifier\n",
    "\n",
    "best_rf = RandomForestClassifier(n_estimators=50, random_state=42)\n",
    "best_rf.fit(X_train_scaled, y_train_res)  "
   ]
  },
  {
   "cell_type": "code",
   "execution_count": 40,
   "metadata": {},
   "outputs": [
    {
     "name": "stdout",
     "output_type": "stream",
     "text": [
      "                precision    recall  f1-score   support\n",
      "\n",
      "          Bots       0.66      0.89      0.75       389\n",
      "   Brute Force       1.00      1.00      1.00      1830\n",
      "          DDoS       1.00      1.00      1.00     25603\n",
      "           DoS       1.00      1.00      1.00     38749\n",
      "Normal Traffic       1.00      1.00      1.00    419012\n",
      " Port Scanning       0.99      0.99      0.99     18139\n",
      "   Web Attacks       0.98      0.99      0.99       429\n",
      "\n",
      "      accuracy                           1.00    504151\n",
      "     macro avg       0.95      0.98      0.96    504151\n",
      "  weighted avg       1.00      1.00      1.00    504151\n",
      "\n"
     ]
    }
   ],
   "source": [
    "y_pred = best_rf.predict(X_test_scaled)\n",
    "from sklearn.metrics import classification_report\n",
    "print(classification_report(y_test, y_pred))\n"
   ]
  },
  {
   "cell_type": "code",
   "execution_count": 41,
   "metadata": {},
   "outputs": [
    {
     "name": "stdout",
     "output_type": "stream",
     "text": [
      "Requirement already satisfied: joblib in c:\\users\\smitz\\appdata\\local\\programs\\python\\python313\\lib\\site-packages (1.4.2)\n",
      "Note: you may need to restart the kernel to use updated packages.\n"
     ]
    },
    {
     "name": "stderr",
     "output_type": "stream",
     "text": [
      "\n",
      "[notice] A new release of pip is available: 24.3.1 -> 25.1\n",
      "[notice] To update, run: python.exe -m pip install --upgrade pip\n"
     ]
    }
   ],
   "source": [
    "pip install joblib"
   ]
  },
  {
   "cell_type": "markdown",
   "metadata": {},
   "source": [
    "### Save model"
   ]
  },
  {
   "cell_type": "code",
   "execution_count": 42,
   "metadata": {},
   "outputs": [
    {
     "name": "stdout",
     "output_type": "stream",
     "text": [
      "Model and scaler saved successfully!\n"
     ]
    }
   ],
   "source": [
    "from joblib import dump\n",
    "\n",
    "dump(best_rf, 'ransomware_detector.joblib')\n",
    "\n",
    "dump(scaler, 'scaler.joblib')\n",
    "\n",
    "print(\"Model and scaler saved successfully!\")\n"
   ]
  },
  {
   "cell_type": "code",
   "execution_count": 43,
   "metadata": {},
   "outputs": [
    {
     "data": {
      "text/plain": [
       "['label_encoder.joblib']"
      ]
     },
     "execution_count": 43,
     "metadata": {},
     "output_type": "execute_result"
    }
   ],
   "source": [
    "dump(label_encoder, 'label_encoder.joblib')"
   ]
  },
  {
   "cell_type": "markdown",
   "metadata": {},
   "source": [
    "\n",
    "### Load the saved model and preprocessing objects"
   ]
  },
  {
   "cell_type": "code",
   "execution_count": 45,
   "metadata": {},
   "outputs": [
    {
     "name": "stdout",
     "output_type": "stream",
     "text": [
      " * Serving Flask app '__main__'\n",
      " * Debug mode: on\n"
     ]
    },
    {
     "name": "stderr",
     "output_type": "stream",
     "text": [
      "WARNING: This is a development server. Do not use it in a production deployment. Use a production WSGI server instead.\n",
      " * Running on http://127.0.0.1:5000\n",
      "Press CTRL+C to quit\n",
      " * Restarting with stat\n"
     ]
    },
    {
     "ename": "SystemExit",
     "evalue": "1",
     "output_type": "error",
     "traceback": [
      "An exception has occurred, use %tb to see the full traceback.\n",
      "\u001b[31mSystemExit\u001b[39m\u001b[31m:\u001b[39m 1\n"
     ]
    }
   ],
   "source": [
    "from flask import Flask, request, jsonify\n",
    "from joblib import load\n",
    "import pandas as pd\n",
    "\n",
    "app = Flask(__name__)\n",
    "\n",
    "model = load('ransomware_detector.joblib')\n",
    "scaler = load('scaler.joblib')\n",
    "\n",
    "@app.route('/predict', methods=['POST'])\n",
    "def predict():\n",
    "    # Expect JSON data with flow features\n",
    "    data_json = request.get_json(force=True)\n",
    "    df = pd.DataFrame([data_json])  # single sample or multiple rows\n",
    "    df_scaled = scaler.transform(df)\n",
    "    pred = model.predict(df_scaled)\n",
    "    \n",
    "    return jsonify({'prediction': pred.tolist()})\n",
    "\n",
    "if __name__ == '__main__':\n",
    "    app.run(port=5000, debug=True)\n"
   ]
  },
  {
   "cell_type": "markdown",
   "metadata": {},
   "source": [
    "## Test Running Flask API"
   ]
  },
  {
   "cell_type": "markdown",
   "metadata": {},
   "source": [
    "### cURL in Terminal"
   ]
  },
  {
   "cell_type": "code",
   "execution_count": 46,
   "metadata": {},
   "outputs": [
    {
     "name": "stderr",
     "output_type": "stream",
     "text": [
      "curl: (3) URL rejected: Bad hostname\n",
      "curl: (3) URL rejected: Malformed input to a URL function\n",
      "curl: (3) URL rejected: Bad hostname\n",
      "curl: (3) URL rejected: Malformed input to a URL function\n",
      "curl: (3) unmatched close brace/bracket in URL position 4:\n",
      "100}'\n",
      "   ^\n"
     ]
    }
   ],
   "source": [
    "!curl -X POST -H \"Content-Type: application/json\" \\\n",
    "     -d '{\"Flow Duration\": 1245, \"Total Fwd Packets\": 50, \"Fwd Packet Length Mean\": 100}' \\\n",
    "     http://127.0.0.1:5000/predict\n"
   ]
  },
  {
   "cell_type": "code",
   "execution_count": 47,
   "metadata": {},
   "outputs": [],
   "source": [
    "from flask import Flask, request, jsonify\n",
    "import pandas as pd\n",
    "\n",
    "app = Flask(__name__)\n"
   ]
  },
  {
   "cell_type": "code",
   "execution_count": 48,
   "metadata": {},
   "outputs": [],
   "source": [
    "@app.route('/predict', methods=['POST'])\n",
    "def predict():\n",
    "\n",
    "    data_json = request.get_json(force=True)\n",
    "    print(\"Received JSON data:\", data_json)\n",
    "    \n",
    "    df = pd.DataFrame([data_json])\n",
    "    print(\"DataFrame columns:\", df.columns.tolist())\n",
    "\n",
    "    df_scaled = scaler.transform(df)\n",
    "\n",
    "    pred = model.predict(df_scaled)\n",
    "    \n",
    "    return jsonify({'prediction': pred.tolist()})"
   ]
  },
  {
   "cell_type": "markdown",
   "metadata": {},
   "source": [
    "## Refine and Evulate"
   ]
  },
  {
   "cell_type": "markdown",
   "metadata": {},
   "source": [
    "### Transform test data using your pre-trained scaler"
   ]
  },
  {
   "cell_type": "code",
   "execution_count": 49,
   "metadata": {},
   "outputs": [],
   "source": [
    "X_test_scaled = scaler.transform(X_test)"
   ]
  },
  {
   "cell_type": "markdown",
   "metadata": {},
   "source": [
    "### Get predictions from your model"
   ]
  },
  {
   "cell_type": "code",
   "execution_count": 50,
   "metadata": {},
   "outputs": [],
   "source": [
    "y_pred = model.predict(X_test_scaled)"
   ]
  },
  {
   "cell_type": "markdown",
   "metadata": {},
   "source": [
    "### Calculate accuracy and Detailed classification report"
   ]
  },
  {
   "cell_type": "code",
   "execution_count": 51,
   "metadata": {},
   "outputs": [
    {
     "name": "stdout",
     "output_type": "stream",
     "text": [
      "Accuracy: 99.85%\n",
      "Precision: 1.00\n",
      "Recall: 1.00\n",
      "F1-Score: 1.00\n",
      "\n",
      "Classification Report:\n",
      "                precision    recall  f1-score   support\n",
      "\n",
      "          Bots       0.66      0.89      0.75       389\n",
      "   Brute Force       1.00      1.00      1.00      1830\n",
      "          DDoS       1.00      1.00      1.00     25603\n",
      "           DoS       1.00      1.00      1.00     38749\n",
      "Normal Traffic       1.00      1.00      1.00    419012\n",
      " Port Scanning       0.99      0.99      0.99     18139\n",
      "   Web Attacks       0.98      0.99      0.99       429\n",
      "\n",
      "      accuracy                           1.00    504151\n",
      "     macro avg       0.95      0.98      0.96    504151\n",
      "  weighted avg       1.00      1.00      1.00    504151\n",
      "\n"
     ]
    }
   ],
   "source": [
    "import numpy as np\n",
    "import pandas as pd\n",
    "from sklearn.metrics import accuracy_score, precision_score, recall_score, f1_score, classification_report, confusion_matrix\n",
    "import matplotlib.pyplot as plt\n",
    "import seaborn as sns\n",
    "\n",
    "accuracy = accuracy_score(y_test, y_pred)\n",
    "precision = precision_score(y_test, y_pred, average='weighted')\n",
    "recall = recall_score(y_test, y_pred, average='weighted')\n",
    "f1 = f1_score(y_test, y_pred, average='weighted')\n",
    "\n",
    "print(\"Accuracy: {:.2f}%\".format(accuracy * 100))\n",
    "print(\"Precision: {:.2f}\".format(precision))\n",
    "print(\"Recall: {:.2f}\".format(recall))\n",
    "print(\"F1-Score: {:.2f}\".format(f1))\n",
    "\n",
    "print(\"\\nClassification Report:\")\n",
    "print(classification_report(y_test, y_pred))"
   ]
  },
  {
   "cell_type": "markdown",
   "metadata": {},
   "source": [
    "### ROC Curve"
   ]
  },
  {
   "cell_type": "code",
   "execution_count": 52,
   "metadata": {},
   "outputs": [
    {
     "data": {
      "image/png": "[encoded data removed]",
      "text/plain": [
       "<Figure size 1000x800 with 1 Axes>"
      ]
     },
     "metadata": {},
     "output_type": "display_data"
    }
   ],
   "source": [
    "from sklearn.preprocessing import label_binarize\n",
    "from sklearn.metrics import roc_auc_score\n",
    "from sklearn.metrics import roc_curve, auc\n",
    "import matplotlib.pyplot as plt\n",
    "import numpy as np\n",
    "\n",
    "# Binarize the output\n",
    "classes = np.unique(y_test)\n",
    "y_test_bin = label_binarize(y_test, classes=classes)\n",
    "y_probs = best_rf_model.predict_proba(X_test)\n",
    "\n",
    "# Compute ROC curve and ROC area for each class\n",
    "fpr = dict()\n",
    "tpr = dict()\n",
    "roc_auc = dict()\n",
    "\n",
    "for i in range(len(classes)):\n",
    "    fpr[i], tpr[i], _ = roc_curve(y_test_bin[:, i], y_probs[:, i])\n",
    "    roc_auc[i] = auc(fpr[i], tpr[i])\n",
    "\n",
    "# Plot all ROC curves\n",
    "plt.figure(figsize=(10,8))\n",
    "for i in range(len(classes)):\n",
    "    plt.plot(fpr[i], tpr[i], label=f'Class {classes[i]} (AUC = {roc_auc[i]:.2f})')\n",
    "\n",
    "plt.plot([0, 1], [0, 1], 'k--')\n",
    "plt.xlabel('False Positive Rate')\n",
    "plt.ylabel('True Positive Rate')\n",
    "plt.title('Multi-class ROC Curve')\n",
    "plt.legend(loc=\"lower right\")\n",
    "plt.grid(True)\n",
    "plt.show()\n"
   ]
  },
  {
   "cell_type": "markdown",
   "metadata": {},
   "source": [
    "### LIME Explanation"
   ]
  },
  {
   "cell_type": "code",
   "execution_count": 53,
   "metadata": {},
   "outputs": [
    {
     "name": "stdout",
     "output_type": "stream",
     "text": [
      "Requirement already satisfied: lime in c:\\users\\smitz\\appdata\\local\\programs\\python\\python313\\lib\\site-packages (0.2.0.1)\n",
      "Requirement already satisfied: matplotlib in c:\\users\\smitz\\appdata\\local\\programs\\python\\python313\\lib\\site-packages (from lime) (3.10.1)\n",
      "Requirement already satisfied: numpy in c:\\users\\smitz\\appdata\\local\\programs\\python\\python313\\lib\\site-packages (from lime) (2.2.3)\n",
      "Requirement already satisfied: scipy in c:\\users\\smitz\\appdata\\local\\programs\\python\\python313\\lib\\site-packages (from lime) (1.15.2)\n",
      "Requirement already satisfied: tqdm in c:\\users\\smitz\\appdata\\local\\programs\\python\\python313\\lib\\site-packages (from lime) (4.67.1)\n",
      "Requirement already satisfied: scikit-learn>=0.18 in c:\\users\\smitz\\appdata\\local\\programs\\python\\python313\\lib\\site-packages (from lime) (1.6.1)\n",
      "Requirement already satisfied: scikit-image>=0.12 in c:\\users\\smitz\\appdata\\local\\programs\\python\\python313\\lib\\site-packages (from lime) (0.25.2)\n",
      "Requirement already satisfied: networkx>=3.0 in c:\\users\\smitz\\appdata\\local\\programs\\python\\python313\\lib\\site-packages (from scikit-image>=0.12->lime) (3.4.2)\n",
      "Requirement already satisfied: pillow>=10.1 in c:\\users\\smitz\\appdata\\local\\programs\\python\\python313\\lib\\site-packages (from scikit-image>=0.12->lime) (11.1.0)\n",
      "Requirement already satisfied: imageio!=2.35.0,>=2.33 in c:\\users\\smitz\\appdata\\local\\programs\\python\\python313\\lib\\site-packages (from scikit-image>=0.12->lime) (2.37.0)\n",
      "Requirement already satisfied: tifffile>=2022.8.12 in c:\\users\\smitz\\appdata\\local\\programs\\python\\python313\\lib\\site-packages (from scikit-image>=0.12->lime) (2025.2.18)\n",
      "Requirement already satisfied: packaging>=21 in c:\\users\\smitz\\appdata\\local\\programs\\python\\python313\\lib\\site-packages (from scikit-image>=0.12->lime) (24.2)\n",
      "Requirement already satisfied: lazy-loader>=0.4 in c:\\users\\smitz\\appdata\\local\\programs\\python\\python313\\lib\\site-packages (from scikit-image>=0.12->lime) (0.4)\n",
      "Requirement already satisfied: joblib>=1.2.0 in c:\\users\\smitz\\appdata\\local\\programs\\python\\python313\\lib\\site-packages (from scikit-learn>=0.18->lime) (1.4.2)\n",
      "Requirement already satisfied: threadpoolctl>=3.1.0 in c:\\users\\smitz\\appdata\\local\\programs\\python\\python313\\lib\\site-packages (from scikit-learn>=0.18->lime) (3.5.0)\n",
      "Requirement already satisfied: contourpy>=1.0.1 in c:\\users\\smitz\\appdata\\local\\programs\\python\\python313\\lib\\site-packages (from matplotlib->lime) (1.3.1)\n",
      "Requirement already satisfied: cycler>=0.10 in c:\\users\\smitz\\appdata\\local\\programs\\python\\python313\\lib\\site-packages (from matplotlib->lime) (0.12.1)\n",
      "Requirement already satisfied: fonttools>=4.22.0 in c:\\users\\smitz\\appdata\\local\\programs\\python\\python313\\lib\\site-packages (from matplotlib->lime) (4.56.0)\n",
      "Requirement already satisfied: kiwisolver>=1.3.1 in c:\\users\\smitz\\appdata\\local\\programs\\python\\python313\\lib\\site-packages (from matplotlib->lime) (1.4.8)\n",
      "Requirement already satisfied: pyparsing>=2.3.1 in c:\\users\\smitz\\appdata\\local\\programs\\python\\python313\\lib\\site-packages (from matplotlib->lime) (3.2.1)\n",
      "Requirement already satisfied: python-dateutil>=2.7 in c:\\users\\smitz\\appdata\\local\\programs\\python\\python313\\lib\\site-packages (from matplotlib->lime) (2.9.0.post0)\n",
      "Requirement already satisfied: colorama in c:\\users\\smitz\\appdata\\local\\programs\\python\\python313\\lib\\site-packages (from tqdm->lime) (0.4.6)\n",
      "Requirement already satisfied: six>=1.5 in c:\\users\\smitz\\appdata\\local\\programs\\python\\python313\\lib\\site-packages (from python-dateutil>=2.7->matplotlib->lime) (1.17.0)\n",
      "Note: you may need to restart the kernel to use updated packages.\n"
     ]
    },
    {
     "name": "stderr",
     "output_type": "stream",
     "text": [
      "\n",
      "[notice] A new release of pip is available: 24.3.1 -> 25.1\n",
      "[notice] To update, run: python.exe -m pip install --upgrade pip\n"
     ]
    }
   ],
   "source": [
    "pip install lime\n"
   ]
  },
  {
   "cell_type": "code",
   "execution_count": null,
   "metadata": {},
   "outputs": [
    {
     "name": "stdout",
     "output_type": "stream",
     "text": [
      "LIME explainer saved to explainer.pkl\n",
      "LIME explanation saved to lime_explanation.html — open it in your browser.\n"
     ]
    }
   ],
   "source": [
    "import lime\n",
    "import lime.lime_tabular\n",
    "import numpy as np\n",
    "\n",
    "# Create LIME explainer\n",
    "explainer = lime.lime_tabular.LimeTabularExplainer(\n",
    "    training_data=X_train.values,  \n",
    "    feature_names=feature_names,   \n",
    "    class_names=['Safe', 'Ransomware'],\n",
    "    mode='classification'\n",
    ")\n",
    "\n",
    "print(\"LIME explainer saved to explainer.pkl\")\n",
    "# Choose an instance to explain (e.g., first test instance)\n",
    "i = 0\n",
    "exp = explainer.explain_instance(\n",
    "    data_row=X_test.iloc[i],\n",
    "    predict_fn=best_rf_model.predict_proba\n",
    ")\n",
    "\n",
    "# Show explanation in notebook\n",
    "# Save explanation as HTML\n",
    "with open('lime_explanation.html', 'w', encoding='utf-8') as f:\n",
    "    f.write(exp.as_html())\n",
    "\n",
    "print(\"LIME explanation saved to lime_explanation.html — open it in your browser.\")"
   ]
  },
  {
   "cell_type": "markdown",
   "metadata": {},
   "source": [
    "### Feature Importance"
   ]
  },
  {
   "cell_type": "code",
   "execution_count": 55,
   "metadata": {},
   "outputs": [
    {
     "data": {
      "image/png": "[encoded data removed]",
      "text/plain": [
       "<Figure size 1200x800 with 1 Axes>"
      ]
     },
     "metadata": {},
     "output_type": "display_data"
    }
   ],
   "source": [
    "importances = best_rf_model.feature_importances_\n",
    "feature_names = X_train.columns\n",
    "\n",
    "# Sort feature importances in descending order\n",
    "indices = np.argsort(importances)[::-1]\n",
    "\n",
    "# Plot the feature importances\n",
    "plt.figure(figsize=(12, 8))\n",
    "plt.title(\"Feature Importances from Random Forest\")\n",
    "plt.bar(range(X_train.shape[1]), importances[indices], align=\"center\")\n",
    "plt.xticks(range(X_train.shape[1]), [feature_names[i] for i in indices], rotation=90)\n",
    "plt.xlabel(\"Features\")\n",
    "plt.ylabel(\"Importance Score\")\n",
    "plt.tight_layout()\n",
    "plt.grid(True)\n",
    "plt.show()\n"
   ]
  },
  {
   "cell_type": "markdown",
   "metadata": {},
   "source": [
    "# Compute the confusion matrix"
   ]
  },
  {
   "cell_type": "code",
   "execution_count": 56,
   "metadata": {},
   "outputs": [
    {
     "data": {
      "image/png": "[encoded data removed]",
      "text/plain": [
       "<Figure size 800x600 with 2 Axes>"
      ]
     },
     "metadata": {},
     "output_type": "display_data"
    }
   ],
   "source": [
    "cm = confusion_matrix(y_test, y_pred)\n",
    "cm_df = pd.DataFrame(cm, index=np.unique(y_test), columns=np.unique(y_test))\n",
    "\n",
    "plt.figure(figsize=(8,6))\n",
    "sns.heatmap(cm_df, annot=True, fmt='d', cmap='Blues')\n",
    "plt.title(\"Confusion Matrix\")\n",
    "plt.ylabel(\"Actual\")\n",
    "plt.xlabel(\"Predicted\")\n",
    "plt.show()\n"
   ]
  },
  {
   "cell_type": "markdown",
   "metadata": {},
   "source": [
    "## 3. Integrate with Security Infrastructure Alerts & Logging:"
   ]
  },
  {
   "cell_type": "code",
   "execution_count": 57,
   "metadata": {},
   "outputs": [],
   "source": [
    "import logging\n",
    "\n",
    "logging.basicConfig(\n",
    "    filename='security_alerts.log',\n",
    "    level=logging.INFO,\n",
    "    format='%(asctime)s %(levelname)s: %(message)s'\n",
    ")\n"
   ]
  },
  {
   "cell_type": "markdown",
   "metadata": {},
   "source": [
    "### Adversarial Testing Simulation"
   ]
  },
  {
   "cell_type": "code",
   "execution_count": 58,
   "metadata": {},
   "outputs": [
    {
     "name": "stdout",
     "output_type": "stream",
     "text": [
      "Accuracy on Adversarial Samples: 0.9982\n"
     ]
    }
   ],
   "source": [
    "import numpy as np\n",
    "\n",
    "# Function to create adversarial samples by adding small noise\n",
    "def generate_adversarial_examples(X, epsilon=0.05):\n",
    "    X_adv = X.copy()\n",
    "    noise = np.random.normal(0, epsilon, X.shape)\n",
    "    X_adv = X_adv + noise\n",
    "    return X_adv\n",
    "\n",
    "# Generate adversarial test samples\n",
    "X_test_adv = generate_adversarial_examples(X_test)\n",
    "\n",
    "# Predict on adversarial samples\n",
    "y_pred_adv = best_rf_model.predict(X_test_adv)\n",
    "\n",
    "# Evaluate performance\n",
    "from sklearn.metrics import accuracy_score\n",
    "\n",
    "adv_accuracy = accuracy_score(y_test, y_pred_adv)\n",
    "print(f\"Accuracy on Adversarial Samples: {adv_accuracy:.4f}\")\n"
   ]
  },
  {
   "cell_type": "markdown",
   "metadata": {},
   "source": [
    "## Creating email alert function"
   ]
  },
  {
   "cell_type": "code",
   "execution_count": 59,
   "metadata": {},
   "outputs": [],
   "source": [
    "import smtplib\n",
    "from email.mime.text import MIMEText\n",
    "\n",
    "def send_email_alert(subject, message, smtp_server, smtp_port, sender_email, receiver_email, login, password):\n",
    "    msg = MIMEText(message)\n",
    "    msg['Subject'] = subject\n",
    "    msg['From'] = sender_email\n",
    "    msg['To'] = receiver_email\n",
    "    \n",
    "    try:\n",
    "        with smtplib.SMTP(smtp_server, smtp_port) as server:\n",
    "            server.starttls()  # Upgrade to secure connection\n",
    "            server.login(login, password)\n",
    "            server.sendmail(sender_email, [receiver_email], msg.as_string())\n",
    "        logging.info(\"Email alert sent successfully.\")\n",
    "    except Exception as e:\n",
    "        logging.error(f\"Error sending email alert: {e}\")\n"
   ]
  },
  {
   "cell_type": "markdown",
   "metadata": {},
   "source": [
    "# Creating a Function to Send Alerts to a SIEM"
   ]
  },
  {
   "cell_type": "code",
   "execution_count": 60,
   "metadata": {},
   "outputs": [],
   "source": [
    "import requests\n",
    "import json\n",
    "from datetime import datetime\n",
    "\n",
    "def send_to_siem(data, siem_url):\n",
    "    headers = {'Content-Type': 'application/json'}\n",
    "    try:\n",
    "        response = requests.post(siem_url, data=json.dumps(data), headers=headers)\n",
    "        if response.status_code == 200:\n",
    "            logging.info(\"Data sent to SIEM successfully.\")\n",
    "        else:\n",
    "            logging.error(f\"Failed to send data to SIEM, status code: {response.status_code}\")\n",
    "    except Exception as e:\n",
    "        logging.error(f\"Error sending data to SIEM: {e}\")\n"
   ]
  },
  {
   "cell_type": "markdown",
   "metadata": {},
   "source": [
    "# Creating a Function to Block an IP via Firewall Integration"
   ]
  },
  {
   "cell_type": "code",
   "execution_count": 61,
   "metadata": {},
   "outputs": [],
   "source": [
    "def block_ip(ip_address, firewall_api_url, api_key):\n",
    "    payload = {\n",
    "        \"ip\": ip_address,\n",
    "        \"action\": \"block\",\n",
    "        \"reason\": \"Detected malicious activity\"\n",
    "    }\n",
    "    headers = {\n",
    "        'Authorization': f'Bearer {api_key}',\n",
    "        'Content-Type': 'application/json'\n",
    "    }\n",
    "    try:\n",
    "        response = requests.post(firewall_api_url, data=json.dumps(payload), headers=headers)\n",
    "        if response.status_code == 200:\n",
    "            logging.info(f\"IP {ip_address} blocked successfully.\")\n",
    "        else:\n",
    "            logging.error(f\"Failed to block IP {ip_address}. Status code: {response.status_code}\")\n",
    "    except Exception as e:\n",
    "        logging.error(f\"Error blocking IP {ip_address}: {e}\")\n"
   ]
  },
  {
   "cell_type": "markdown",
   "metadata": {},
   "source": [
    "# Processing  a Flow’s Prediction and Integrate with Security Infrastructure"
   ]
  },
  {
   "cell_type": "code",
   "execution_count": 62,
   "metadata": {},
   "outputs": [],
   "source": [
    "def process_flow_alert(flow_data, prediction):\n",
    "\n",
    "    malicious_labels = {\"Bots\", \"Brute Force\", \"DDoS\", \"DoS\", \"Port Scanning\", \"Web Attacks\"}\n",
    "    \n",
    "    if prediction in malicious_labels:\n",
    "        alert_message = f\"Malicious traffic detected: {prediction}. Flow details: {flow_data}\"\n",
    "        logging.info(alert_message)\n",
    "      \n",
    "        subject = f\"Security Alert: {prediction} detected\"\n",
    "        send_email_alert(\n",
    "            subject,\n",
    "            alert_message,\n",
    "            smtp_server=\"smtp.example.com\", \n",
    "            smtp_port=587,\n",
    "            sender_email=\"alert@example.com\",  \n",
    "            receiver_email=\"security_team@example.com\",  \n",
    "            login=\"alert@example.com\", \n",
    "            password=\"yourpassword\" \n",
    "        )\n",
    "        siem_data = {\n",
    "            \"timestamp\": datetime.utcnow().isoformat(),\n",
    "            \"alert\": prediction,\n",
    "            \"flow\": flow_data\n",
    "        }\n",
    "        send_to_siem(siem_data, siem_url=\"https://siem.example.com/ingest\") \n",
    "        \n",
    "        if \"Source IP\" in flow_data:\n",
    "            block_ip(\n",
    "                flow_data[\"Source IP\"],\n",
    "                firewall_api_url=\"https://firewall.example.com/api/block\",\n",
    "                api_key=\"your_api_key\" \n",
    "            )\n",
    "    else:\n",
    "        logging.info(f\"Normal traffic processed: {flow_data}\")\n"
   ]
  },
  {
   "cell_type": "markdown",
   "metadata": {},
   "source": [
    "## 4. Model Maintenance"
   ]
  },
  {
   "cell_type": "code",
   "execution_count": 63,
   "metadata": {},
   "outputs": [
    {
     "data": {
      "text/plain": [
       "['scaler_v2.joblib']"
      ]
     },
     "execution_count": 63,
     "metadata": {},
     "output_type": "execute_result"
    }
   ],
   "source": [
    "import joblib\n",
    "\n",
    "joblib.dump(model, \"ransomware_detector_v2.joblib\")\n",
    "joblib.dump(scaler, \"scaler_v2.joblib\")\n"
   ]
  },
  {
   "cell_type": "code",
   "execution_count": 64,
   "metadata": {},
   "outputs": [],
   "source": [
    "model = joblib.load(\"ransomware_detector_v2.joblib\")\n",
    "scaler = joblib.load(\"scaler_v2.joblib\")\n"
   ]
  },
  {
   "cell_type": "markdown",
   "metadata": {},
   "source": [
    "## Cross Validatation to Model"
   ]
  },
  {
   "cell_type": "code",
   "execution_count": 65,
   "metadata": {},
   "outputs": [],
   "source": [
    "data = pd.read_csv(\"ransomware_data.csv\", sep=\",\")\n",
    "\n",
    "X = data.drop(\"Attack Type\", axis=1)\n",
    "y = data[\"Attack Type\"]"
   ]
  },
  {
   "cell_type": "code",
   "execution_count": 66,
   "metadata": {},
   "outputs": [
    {
     "name": "stdout",
     "output_type": "stream",
     "text": [
      "Destination Port                 int64\n",
      "Flow Duration                    int64\n",
      "Total Fwd Packets                int64\n",
      "Total Length of Fwd Packets      int64\n",
      "Fwd Packet Length Max            int64\n",
      "Fwd Packet Length Min            int64\n",
      "Fwd Packet Length Mean         float64\n",
      "Fwd Packet Length Std          float64\n",
      "Bwd Packet Length Max            int64\n",
      "Bwd Packet Length Min            int64\n",
      "Bwd Packet Length Mean         float64\n",
      "Bwd Packet Length Std          float64\n",
      "Flow Bytes/s                   float64\n",
      "Flow Packets/s                 float64\n",
      "Flow IAT Mean                  float64\n",
      "Flow IAT Std                   float64\n",
      "Flow IAT Max                     int64\n",
      "Flow IAT Min                     int64\n",
      "Fwd IAT Total                    int64\n",
      "Fwd IAT Mean                   float64\n",
      "Fwd IAT Std                    float64\n",
      "Fwd IAT Max                      int64\n",
      "Fwd IAT Min                      int64\n",
      "Bwd IAT Total                    int64\n",
      "Bwd IAT Mean                   float64\n",
      "Bwd IAT Std                    float64\n",
      "Bwd IAT Max                      int64\n",
      "Bwd IAT Min                      int64\n",
      "Fwd Header Length                int64\n",
      "Bwd Header Length                int64\n",
      "Fwd Packets/s                  float64\n",
      "Bwd Packets/s                  float64\n",
      "Min Packet Length                int64\n",
      "Max Packet Length                int64\n",
      "Packet Length Mean             float64\n",
      "Packet Length Std              float64\n",
      "Packet Length Variance         float64\n",
      "FIN Flag Count                   int64\n",
      "PSH Flag Count                   int64\n",
      "ACK Flag Count                   int64\n",
      "Average Packet Size            float64\n",
      "Subflow Fwd Bytes                int64\n",
      "Init_Win_bytes_forward           int64\n",
      "Init_Win_bytes_backward          int64\n",
      "act_data_pkt_fwd                 int64\n",
      "min_seg_size_forward             int64\n",
      "Active Mean                    float64\n",
      "Active Max                       int64\n",
      "Active Min                       int64\n",
      "Idle Mean                      float64\n",
      "Idle Max                         int64\n",
      "Idle Min                         int64\n",
      "dtype: object\n"
     ]
    }
   ],
   "source": [
    "print(X.dtypes)"
   ]
  },
  {
   "cell_type": "code",
   "execution_count": 67,
   "metadata": {},
   "outputs": [
    {
     "name": "stdout",
     "output_type": "stream",
     "text": [
      "Cross-validation accuracy scores: [0.99859169 0.99860161 0.99851433 0.99854408 0.9985064 ]\n",
      "Mean CV accuracy: 99.86%\n",
      "Std dev of CV accuracy: 0.00%\n"
     ]
    }
   ],
   "source": [
    "from sklearn.ensemble import RandomForestClassifier\n",
    "from sklearn.model_selection import cross_val_score, StratifiedKFold\n",
    "import numpy as np\n",
    "\n",
    "skf = StratifiedKFold(n_splits=5, shuffle=True, random_state=42)\n",
    "\n",
    "rf = RandomForestClassifier(\n",
    "    n_estimators=100, \n",
    "    random_state=42, \n",
    "    n_jobs=-1\n",
    ")\n",
    "\n",
    "scores = cross_val_score(rf, X, y, cv=skf, scoring='accuracy')\n",
    "\n",
    "print(\"Cross-validation accuracy scores:\", scores)\n",
    "print(\"Mean CV accuracy: {:.2f}%\".format(np.mean(scores) * 100))\n",
    "print(\"Std dev of CV accuracy: {:.2f}%\".format(np.std(scores) * 100))\n"
   ]
  },
  {
   "cell_type": "markdown",
   "metadata": {},
   "source": [
    "### K-Fold Cross-Validation"
   ]
  },
  {
   "cell_type": "code",
   "execution_count": 68,
   "metadata": {},
   "outputs": [
    {
     "name": "stdout",
     "output_type": "stream",
     "text": [
      "5-Fold CV Accuracy: 0.9986 ± 0.0000\n"
     ]
    }
   ],
   "source": [
    "from sklearn.model_selection import cross_val_score, KFold\n",
    "from sklearn.ensemble import RandomForestClassifier\n",
    "import numpy as np\n",
    "\n",
    "# Define 5-Fold Cross Validation\n",
    "kfold = KFold(n_splits=5, shuffle=True, random_state=42)\n",
    "\n",
    "# Evaluate with cross-validation\n",
    "cv_scores = cross_val_score(rf_model, X_train, y_train, cv=kfold, scoring='accuracy')\n",
    "\n",
    "# Output mean and std deviation of CV accuracy\n",
    "print(f\"5-Fold CV Accuracy: {np.mean(cv_scores):.4f} ± {np.std(cv_scores):.4f}\")\n"
   ]
  },
  {
   "cell_type": "markdown",
   "metadata": {},
   "source": [
    "## Double‐Check for Data Leakage"
   ]
  },
  {
   "cell_type": "code",
   "execution_count": 69,
   "metadata": {},
   "outputs": [],
   "source": [
    "from sklearn.preprocessing import StandardScaler\n",
    "from sklearn.model_selection import train_test_split\n",
    "\n",
    "X_train, X_test, y_train, y_test = train_test_split(X, y, test_size=0.2, \n",
    "                                                    random_state=42, \n",
    "                                                    stratify=y)\n",
    "\n",
    "scaler = StandardScaler()\n",
    "scaler.fit(X_train)   \n",
    "X_train_scaled = scaler.transform(X_train)\n",
    "X_test_scaled = scaler.transform(X_test)"
   ]
  },
  {
   "cell_type": "markdown",
   "metadata": {},
   "source": [
    "### Save all objects into a single pickle file"
   ]
  },
  {
   "cell_type": "code",
   "execution_count": 70,
   "metadata": {},
   "outputs": [
    {
     "name": "stdout",
     "output_type": "stream",
     "text": [
      "All objects saved in all_objects.pkl!\n"
     ]
    }
   ],
   "source": [
    "import pickle\n",
    "\n",
    "data_to_save = {\n",
    "    'model': best_rf,\n",
    "    'scaler': scaler,\n",
    "\n",
    "}\n",
    "\n",
    "with open('all_objects.pkl', 'wb') as f:\n",
    "    pickle.dump(data_to_save, f)\n",
    "\n",
    "print(\"All objects saved in all_objects.pkl!\")\n"
   ]
  },
  {
   "cell_type": "code",
   "execution_count": 71,
   "metadata": {},
   "outputs": [
    {
     "name": "stdout",
     "output_type": "stream",
     "text": [
      "Objects loaded successfully!\n"
     ]
    }
   ],
   "source": [
    "import pickle\n",
    "\n",
    "with open('all_objects.pkl', 'rb') as f:\n",
    "    loaded_data = pickle.load(f)\n",
    "\n",
    "model = loaded_data['model']\n",
    "scaler = loaded_data['scaler']\n",
    "\n",
    "print(\"Objects loaded successfully!\")\n"
   ]
  },
  {
   "cell_type": "code",
   "execution_count": 72,
   "metadata": {},
   "outputs": [
    {
     "name": "stderr",
     "output_type": "stream",
     "text": [
      "\n",
      "[notice] A new release of pip is available: 24.3.1 -> 25.0.1\n",
      "[notice] To update, run: python.exe -m pip install --upgrade pip\n",
      "ERROR: Invalid requirement: 'joblib:': Expected end or semicolon (after name and no valid version specifier)\n",
      "    joblib:\n",
      "          ^\n",
      "\n",
      "[notice] A new release of pip is available: 24.3.1 -> 25.0.1\n",
      "[notice] To update, run: python.exe -m pip install --upgrade pip\n"
     ]
    }
   ],
   "source": [
    "!pip install --quiet pandas numpy scikit-learn imblearn lime matplotlib seaborn \\\n",
    "                   tensorflow==2.16.1 flask gunicorn joblib:\n",
    "!pip install --quiet foolbox"
   ]
  },
  {
   "cell_type": "code",
   "execution_count": 73,
   "metadata": {},
   "outputs": [],
   "source": [
    "from sklearn.pipeline import Pipeline\n",
    "from sklearn.preprocessing import LabelEncoder, StandardScaler\n",
    "from sklearn.compose import ColumnTransformer\n",
    "from imblearn.over_sampling import SMOTE\n",
    "from joblib import dump, load\n",
    "\n",
    "def load_dataset(path: str) -> pd.DataFrame:\n",
    "    df = (ransomware_data_sample.csv)\n",
    "    return df\n",
    "\n",
    "def build_preprocess_pipeline(df: pd.DataFrame) -> tuple[Pipeline, LabelEncoder]:\n",
    "    # encode target\n",
    "    le = LabelEncoder()\n",
    "    df['Attack Type Enc'] = le.fit_transform(df['Attack Type'])\n",
    "\n",
    "    # identify numeric columns\n",
    "    numeric_cols = df.select_dtypes(include=[np.number]).columns.drop('Attack Type Enc')\n",
    "\n",
    "    # column‑wise transformations\n",
    "    numeric_transform = Pipeline(steps=[\n",
    "        (\"scaler\", StandardScaler())\n",
    "    ])\n",
    "    preprocessor = ColumnTransformer(\n",
    "        transformers=[('num', numeric_transform, numeric_cols)],\n",
    "        remainder=\"drop\"\n",
    "    )\n",
    "\n",
    "    # full pipeline inc. SMOTE\n",
    "    full_pipeline = Pipeline(steps=[\n",
    "        (\"prep\",  preprocessor),\n",
    "        (\"smote\", SMOTE(random_state=42, k_neighbors=2))\n",
    "    ])\n",
    "    return full_pipeline, le\n"
   ]
  },
  {
   "cell_type": "code",
   "execution_count": 74,
   "metadata": {},
   "outputs": [
    {
     "name": "stdout",
     "output_type": "stream",
     "text": [
      "True\n"
     ]
    }
   ],
   "source": [
    "import os\n",
    "print(os.path.isfile(\"ransomware_data_sample.csv\")) \n"
   ]
  },
  {
   "cell_type": "code",
   "execution_count": 75,
   "metadata": {},
   "outputs": [],
   "source": [
    "import pandas as pd                        # make sure this import is run\n",
    "\n",
    "def load_dataset(path: str) -> pd.DataFrame:\n",
    "    \"\"\"\n",
    "    Read *path* as a CSV and return a DataFrame.\n",
    "    \"\"\"\n",
    "    return pd.read_csv(path)\n"
   ]
  },
  {
   "cell_type": "code",
   "execution_count": 76,
   "metadata": {},
   "outputs": [],
   "source": [
    "from sklearn.model_selection import StratifiedShuffleSplit\n",
    "\n",
    "df = load_dataset(\"ransomware_data_sample.csv\")\n",
    "pipeline, label_enc = build_preprocess_pipeline(df)\n",
    "\n",
    "X = df.drop(columns=[\"Attack Type\", \"Attack Type Enc\"])\n",
    "y = df[\"Attack Type Enc\"]\n",
    "\n",
    "sss = StratifiedShuffleSplit(n_splits=1, test_size=0.2, random_state=42)\n",
    "train_idx, test_idx = next(sss.split(X, y))\n",
    "X_train, X_test = X.iloc[train_idx], X.iloc[test_idx]\n",
    "y_train, y_test = y.iloc[train_idx], y.iloc[test_idx]\n"
   ]
  },
  {
   "cell_type": "code",
   "execution_count": 77,
   "metadata": {},
   "outputs": [
    {
     "name": "stdout",
     "output_type": "stream",
     "text": [
      "52 numeric columns found: ['Destination Port', 'Flow Duration', 'Total Fwd Packets', 'Total Length of Fwd Packets', 'Fwd Packet Length Max', 'Fwd Packet Length Min', 'Fwd Packet Length Mean', 'Fwd Packet Length Std'] ...\n"
     ]
    }
   ],
   "source": [
    "import numpy as np\n",
    "\n",
    "# All numeric predictors (drop the raw + encoded target columns)\n",
    "numeric_cols = (\n",
    "    df.drop(columns=['Attack Type', 'Attack Type Enc'])   # remove targets\n",
    "      .select_dtypes(include=[np.number])                 # keep only numbers\n",
    "      .columns\n",
    "      .tolist()\n",
    ")\n",
    "\n",
    "print(f\"{len(numeric_cols)} numeric columns found:\", numeric_cols[:8], \"...\")\n"
   ]
  },
  {
   "cell_type": "code",
   "execution_count": 78,
   "metadata": {},
   "outputs": [
    {
     "name": "stdout",
     "output_type": "stream",
     "text": [
      "Model saved successfully as random_forest_model.pkl\n"
     ]
    }
   ],
   "source": [
    "import joblib\n",
    "\n",
    "# Save trained Random Forest model\n",
    "joblib.dump(model, 'random_forest_model.pkl')\n",
    "\n",
    "print(\"Model saved successfully as random_forest_model.pkl\")\n"
   ]
  },
  {
   "cell_type": "code",
   "execution_count": 80,
   "metadata": {},
   "outputs": [
    {
     "name": "stdout",
     "output_type": "stream",
     "text": [
      " * Serving Flask app '__main__'\n",
      " * Debug mode: on\n"
     ]
    },
    {
     "name": "stderr",
     "output_type": "stream",
     "text": [
      "WARNING: This is a development server. Do not use it in a production deployment. Use a production WSGI server instead.\n",
      " * Running on http://127.0.0.1:5000\n",
      "Press CTRL+C to quit\n"
     ]
    }
   ],
   "source": [
    "from flask import Flask, request, jsonify\n",
    "import joblib\n",
    "import numpy as np\n",
    "\n",
    "# Function to load saved model\n",
    "def load_model(model_path):\n",
    "    return joblib.load(model_path)\n",
    "\n",
    "# Function to predict based on input data\n",
    "def predict(data, model):\n",
    "    prediction = model.predict([data])\n",
    "    return prediction[0]\n",
    "\n",
    "# Initialize Flask app\n",
    "app = Flask(__name__)\n",
    "\n",
    "# Prediction endpoint\n",
    "@app.route('/predict', methods=['POST'])\n",
    "def predict():\n",
    "    try:\n",
    "        data = request.get_json(force=True)\n",
    "        features = data['features']\n",
    "\n",
    "        prediction = model.predict([features])\n",
    "        return jsonify({'prediction': prediction.tolist()})\n",
    "\n",
    "    except Exception as e:\n",
    "        return jsonify({'error': str(e)})\n",
    "\n",
    "\n",
    "# Run the app\n",
    "from threading import Thread\n",
    "\n",
    "def run_app():\n",
    "    app.run(debug=True, use_reloader=False)\n",
    "\n",
    "# Run Flask app in a separate thread\n",
    "flask_thread = Thread(target=run_app)\n",
    "flask_thread.start()\n"
   ]
  },
  {
   "cell_type": "code",
   "execution_count": 91,
   "metadata": {},
   "outputs": [
    {
     "name": "stdout",
     "output_type": "stream",
     "text": [
      "Collecting streamlit\n",
      "  Downloading streamlit-1.44.1-py3-none-any.whl.metadata (8.9 kB)\n",
      "Collecting altair<6,>=4.0 (from streamlit)\n",
      "  Downloading altair-5.5.0-py3-none-any.whl.metadata (11 kB)\n",
      "Requirement already satisfied: blinker<2,>=1.0.0 in c:\\users\\smitz\\appdata\\local\\programs\\python\\python313\\lib\\site-packages (from streamlit) (1.9.0)\n",
      "Collecting cachetools<6,>=4.0 (from streamlit)\n",
      "  Downloading cachetools-5.5.2-py3-none-any.whl.metadata (5.4 kB)\n",
      "Requirement already satisfied: click<9,>=7.0 in c:\\users\\smitz\\appdata\\local\\programs\\python\\python313\\lib\\site-packages (from streamlit) (8.1.8)\n",
      "Requirement already satisfied: numpy<3,>=1.23 in c:\\users\\smitz\\appdata\\local\\programs\\python\\python313\\lib\\site-packages (from streamlit) (2.2.3)\n",
      "Requirement already satisfied: packaging<25,>=20 in c:\\users\\smitz\\appdata\\local\\programs\\python\\python313\\lib\\site-packages (from streamlit) (24.2)\n",
      "Requirement already satisfied: pandas<3,>=1.4.0 in c:\\users\\smitz\\appdata\\local\\programs\\python\\python313\\lib\\site-packages (from streamlit) (2.2.3)\n",
      "Requirement already satisfied: pillow<12,>=7.1.0 in c:\\users\\smitz\\appdata\\local\\programs\\python\\python313\\lib\\site-packages (from streamlit) (11.1.0)\n",
      "Collecting protobuf<6,>=3.20 (from streamlit)\n",
      "  Downloading protobuf-5.29.4-cp310-abi3-win_amd64.whl.metadata (592 bytes)\n",
      "Collecting pyarrow>=7.0 (from streamlit)\n",
      "  Downloading pyarrow-19.0.1-cp313-cp313-win_amd64.whl.metadata (3.4 kB)\n",
      "Requirement already satisfied: requests<3,>=2.27 in c:\\users\\smitz\\appdata\\local\\programs\\python\\python313\\lib\\site-packages (from streamlit) (2.32.3)\n",
      "Collecting tenacity<10,>=8.1.0 (from streamlit)\n",
      "  Downloading tenacity-9.1.2-py3-none-any.whl.metadata (1.2 kB)\n",
      "Collecting toml<2,>=0.10.1 (from streamlit)\n",
      "  Downloading toml-0.10.2-py2.py3-none-any.whl.metadata (7.1 kB)\n",
      "Requirement already satisfied: typing-extensions<5,>=4.4.0 in c:\\users\\smitz\\appdata\\local\\programs\\python\\python313\\lib\\site-packages (from streamlit) (4.12.2)\n",
      "Collecting watchdog<7,>=2.1.5 (from streamlit)\n",
      "  Downloading watchdog-6.0.0-py3-none-win_amd64.whl.metadata (44 kB)\n",
      "Requirement already satisfied: gitpython!=3.1.19,<4,>=3.0.7 in c:\\users\\smitz\\appdata\\local\\programs\\python\\python313\\lib\\site-packages (from streamlit) (3.1.44)\n",
      "Collecting pydeck<1,>=0.8.0b4 (from streamlit)\n",
      "  Downloading pydeck-0.9.1-py2.py3-none-any.whl.metadata (4.1 kB)\n",
      "Requirement already satisfied: tornado<7,>=6.0.3 in c:\\users\\smitz\\appdata\\local\\programs\\python\\python313\\lib\\site-packages (from streamlit) (6.4.2)\n",
      "Requirement already satisfied: jinja2 in c:\\users\\smitz\\appdata\\local\\programs\\python\\python313\\lib\\site-packages (from altair<6,>=4.0->streamlit) (3.1.6)\n",
      "Requirement already satisfied: jsonschema>=3.0 in c:\\users\\smitz\\appdata\\local\\programs\\python\\python313\\lib\\site-packages (from altair<6,>=4.0->streamlit) (4.23.0)\n",
      "Collecting narwhals>=1.14.2 (from altair<6,>=4.0->streamlit)\n",
      "  Downloading narwhals-1.36.0-py3-none-any.whl.metadata (9.2 kB)\n",
      "Requirement already satisfied: colorama in c:\\users\\smitz\\appdata\\local\\programs\\python\\python313\\lib\\site-packages (from click<9,>=7.0->streamlit) (0.4.6)\n",
      "Requirement already satisfied: gitdb<5,>=4.0.1 in c:\\users\\smitz\\appdata\\local\\programs\\python\\python313\\lib\\site-packages (from gitpython!=3.1.19,<4,>=3.0.7->streamlit) (4.0.12)\n",
      "Requirement already satisfied: python-dateutil>=2.8.2 in c:\\users\\smitz\\appdata\\local\\programs\\python\\python313\\lib\\site-packages (from pandas<3,>=1.4.0->streamlit) (2.9.0.post0)\n",
      "Requirement already satisfied: pytz>=2020.1 in c:\\users\\smitz\\appdata\\local\\programs\\python\\python313\\lib\\site-packages (from pandas<3,>=1.4.0->streamlit) (2025.1)\n",
      "Requirement already satisfied: tzdata>=2022.7 in c:\\users\\smitz\\appdata\\local\\programs\\python\\python313\\lib\\site-packages (from pandas<3,>=1.4.0->streamlit) (2025.1)\n",
      "Requirement already satisfied: charset-normalizer<4,>=2 in c:\\users\\smitz\\appdata\\local\\programs\\python\\python313\\lib\\site-packages (from requests<3,>=2.27->streamlit) (3.4.1)\n",
      "Requirement already satisfied: idna<4,>=2.5 in c:\\users\\smitz\\appdata\\local\\programs\\python\\python313\\lib\\site-packages (from requests<3,>=2.27->streamlit) (3.10)\n",
      "Requirement already satisfied: urllib3<3,>=1.21.1 in c:\\users\\smitz\\appdata\\local\\programs\\python\\python313\\lib\\site-packages (from requests<3,>=2.27->streamlit) (2.3.0)\n",
      "Requirement already satisfied: certifi>=2017.4.17 in c:\\users\\smitz\\appdata\\local\\programs\\python\\python313\\lib\\site-packages (from requests<3,>=2.27->streamlit) (2025.1.31)\n",
      "Requirement already satisfied: smmap<6,>=3.0.1 in c:\\users\\smitz\\appdata\\local\\programs\\python\\python313\\lib\\site-packages (from gitdb<5,>=4.0.1->gitpython!=3.1.19,<4,>=3.0.7->streamlit) (5.0.2)\n",
      "Requirement already satisfied: MarkupSafe>=2.0 in c:\\users\\smitz\\appdata\\local\\programs\\python\\python313\\lib\\site-packages (from jinja2->altair<6,>=4.0->streamlit) (3.0.2)\n",
      "Requirement already satisfied: attrs>=22.2.0 in c:\\users\\smitz\\appdata\\local\\programs\\python\\python313\\lib\\site-packages (from jsonschema>=3.0->altair<6,>=4.0->streamlit) (25.1.0)\n",
      "Requirement already satisfied: jsonschema-specifications>=2023.03.6 in c:\\users\\smitz\\appdata\\local\\programs\\python\\python313\\lib\\site-packages (from jsonschema>=3.0->altair<6,>=4.0->streamlit) (2024.10.1)\n",
      "Requirement already satisfied: referencing>=0.28.4 in c:\\users\\smitz\\appdata\\local\\programs\\python\\python313\\lib\\site-packages (from jsonschema>=3.0->altair<6,>=4.0->streamlit) (0.36.2)\n",
      "Requirement already satisfied: rpds-py>=0.7.1 in c:\\users\\smitz\\appdata\\local\\programs\\python\\python313\\lib\\site-packages (from jsonschema>=3.0->altair<6,>=4.0->streamlit) (0.23.1)\n",
      "Requirement already satisfied: six>=1.5 in c:\\users\\smitz\\appdata\\local\\programs\\python\\python313\\lib\\site-packages (from python-dateutil>=2.8.2->pandas<3,>=1.4.0->streamlit) (1.17.0)\n",
      "Downloading streamlit-1.44.1-py3-none-any.whl (9.8 MB)\n",
      "   ---------------------------------------- 0.0/9.8 MB ? eta -:--:--\n",
      "   -- ------------------------------------- 0.5/9.8 MB 3.0 MB/s eta 0:00:04\n",
      "   --- ------------------------------------ 0.8/9.8 MB 3.0 MB/s eta 0:00:04\n",
      "   ---- ----------------------------------- 1.0/9.8 MB 1.9 MB/s eta 0:00:05\n",
      "   ----- ---------------------------------- 1.3/9.8 MB 1.5 MB/s eta 0:00:06\n",
      "   ------- -------------------------------- 1.8/9.8 MB 1.8 MB/s eta 0:00:05\n",
      "   --------- ------------------------------ 2.4/9.8 MB 2.0 MB/s eta 0:00:04\n",
      "   ------------ --------------------------- 3.1/9.8 MB 2.2 MB/s eta 0:00:04\n",
      "   ------------- -------------------------- 3.4/9.8 MB 2.3 MB/s eta 0:00:03\n",
      "   -------------- ------------------------- 3.7/9.8 MB 2.0 MB/s eta 0:00:04\n",
      "   ---------------- ----------------------- 3.9/9.8 MB 2.0 MB/s eta 0:00:03\n",
      "   ------------------ --------------------- 4.5/9.8 MB 1.9 MB/s eta 0:00:03\n",
      "   ------------------- -------------------- 4.7/9.8 MB 1.9 MB/s eta 0:00:03\n",
      "   --------------------- ------------------ 5.2/9.8 MB 1.9 MB/s eta 0:00:03\n",
      "   ---------------------- ----------------- 5.5/9.8 MB 1.9 MB/s eta 0:00:03\n",
      "   ------------------------- -------------- 6.3/9.8 MB 2.0 MB/s eta 0:00:02\n",
      "   --------------------------- ------------ 6.8/9.8 MB 2.1 MB/s eta 0:00:02\n",
      "   ----------------------------- ---------- 7.3/9.8 MB 2.1 MB/s eta 0:00:02\n",
      "   --------------------------------- ------ 8.1/9.8 MB 2.2 MB/s eta 0:00:01\n",
      "   ------------------------------------- -- 9.2/9.8 MB 2.3 MB/s eta 0:00:01\n",
      "   ---------------------------------------- 9.8/9.8 MB 2.3 MB/s eta 0:00:00\n",
      "Downloading altair-5.5.0-py3-none-any.whl (731 kB)\n",
      "   ---------------------------------------- 0.0/731.2 kB ? eta -:--:--\n",
      "   -------------- ------------------------- 262.1/731.2 kB ? eta -:--:--\n",
      "   -------------- ------------------------- 262.1/731.2 kB ? eta -:--:--\n",
      "   ---------------------------------------- 731.2/731.2 kB 1.5 MB/s eta 0:00:00\n",
      "Downloading cachetools-5.5.2-py3-none-any.whl (10 kB)\n",
      "Downloading protobuf-5.29.4-cp310-abi3-win_amd64.whl (434 kB)\n",
      "Downloading pyarrow-19.0.1-cp313-cp313-win_amd64.whl (25.2 MB)\n",
      "   ---------------------------------------- 0.0/25.2 MB ? eta -:--:--\n",
      "    --------------------------------------- 0.5/25.2 MB 4.3 MB/s eta 0:00:06\n",
      "   -- ------------------------------------- 1.3/25.2 MB 3.9 MB/s eta 0:00:07\n",
      "   -- ------------------------------------- 1.6/25.2 MB 3.9 MB/s eta 0:00:07\n",
      "   -- ------------------------------------- 1.8/25.2 MB 2.5 MB/s eta 0:00:10\n",
      "   -- ------------------------------------- 1.8/25.2 MB 2.5 MB/s eta 0:00:10\n",
      "   -- ------------------------------------- 1.8/25.2 MB 2.5 MB/s eta 0:00:10\n",
      "   -- ------------------------------------- 1.8/25.2 MB 2.5 MB/s eta 0:00:10\n",
      "   -- ------------------------------------- 1.8/25.2 MB 2.5 MB/s eta 0:00:10\n",
      "   -- ------------------------------------- 1.8/25.2 MB 2.5 MB/s eta 0:00:10\n",
      "   -- ------------------------------------- 1.8/25.2 MB 2.5 MB/s eta 0:00:10\n",
      "   -- ------------------------------------- 1.8/25.2 MB 2.5 MB/s eta 0:00:10\n",
      "   --- ------------------------------------ 2.1/25.2 MB 785.1 kB/s eta 0:00:30\n",
      "   --- ------------------------------------ 2.1/25.2 MB 785.1 kB/s eta 0:00:30\n",
      "   --- ------------------------------------ 2.1/25.2 MB 785.1 kB/s eta 0:00:30\n",
      "   --- ------------------------------------ 2.1/25.2 MB 785.1 kB/s eta 0:00:30\n",
      "   --- ------------------------------------ 2.1/25.2 MB 785.1 kB/s eta 0:00:30\n",
      "   ---- ----------------------------------- 2.6/25.2 MB 673.7 kB/s eta 0:00:34\n",
      "   ----- ---------------------------------- 3.4/25.2 MB 851.2 kB/s eta 0:00:26\n",
      "   ----- ---------------------------------- 3.7/25.2 MB 891.0 kB/s eta 0:00:25\n",
      "   ----- ---------------------------------- 3.7/25.2 MB 891.0 kB/s eta 0:00:25\n",
      "   ----- ---------------------------------- 3.7/25.2 MB 891.0 kB/s eta 0:00:25\n",
      "   ----- ---------------------------------- 3.7/25.2 MB 891.0 kB/s eta 0:00:25\n",
      "   ------ --------------------------------- 3.9/25.2 MB 767.0 kB/s eta 0:00:28\n",
      "   ------ --------------------------------- 3.9/25.2 MB 767.0 kB/s eta 0:00:28\n",
      "   ------ --------------------------------- 3.9/25.2 MB 767.0 kB/s eta 0:00:28\n",
      "   ------ --------------------------------- 3.9/25.2 MB 767.0 kB/s eta 0:00:28\n",
      "   ------ --------------------------------- 4.2/25.2 MB 698.1 kB/s eta 0:00:31\n",
      "   ------ --------------------------------- 4.2/25.2 MB 698.1 kB/s eta 0:00:31\n",
      "   ------ --------------------------------- 4.2/25.2 MB 698.1 kB/s eta 0:00:31\n",
      "   ------- -------------------------------- 4.5/25.2 MB 679.8 kB/s eta 0:00:31\n",
      "   ------- -------------------------------- 4.5/25.2 MB 679.8 kB/s eta 0:00:31\n",
      "   ------- -------------------------------- 4.5/25.2 MB 679.8 kB/s eta 0:00:31\n",
      "   ------- -------------------------------- 4.7/25.2 MB 643.5 kB/s eta 0:00:32\n",
      "   ------- -------------------------------- 4.7/25.2 MB 643.5 kB/s eta 0:00:32\n",
      "   ------- -------------------------------- 4.7/25.2 MB 643.5 kB/s eta 0:00:32\n",
      "   -------- ------------------------------- 5.2/25.2 MB 662.3 kB/s eta 0:00:31\n",
      "   -------- ------------------------------- 5.5/25.2 MB 682.0 kB/s eta 0:00:29\n",
      "   --------- ------------------------------ 5.8/25.2 MB 694.4 kB/s eta 0:00:29\n",
      "   --------- ------------------------------ 5.8/25.2 MB 694.4 kB/s eta 0:00:29\n",
      "   --------- ------------------------------ 5.8/25.2 MB 694.4 kB/s eta 0:00:29\n",
      "   --------- ------------------------------ 5.8/25.2 MB 694.4 kB/s eta 0:00:29\n",
      "   --------- ------------------------------ 6.0/25.2 MB 653.2 kB/s eta 0:00:30\n",
      "   ---------- ----------------------------- 6.8/25.2 MB 725.5 kB/s eta 0:00:26\n",
      "   ------------ --------------------------- 7.6/25.2 MB 795.3 kB/s eta 0:00:23\n",
      "   ------------ --------------------------- 7.9/25.2 MB 818.6 kB/s eta 0:00:22\n",
      "   ------------ --------------------------- 7.9/25.2 MB 818.6 kB/s eta 0:00:22\n",
      "   ------------ --------------------------- 7.9/25.2 MB 818.6 kB/s eta 0:00:22\n",
      "   ------------- -------------------------- 8.4/25.2 MB 807.9 kB/s eta 0:00:21\n",
      "   -------------- ------------------------- 8.9/25.2 MB 848.0 kB/s eta 0:00:20\n",
      "   -------------- ------------------------- 8.9/25.2 MB 848.0 kB/s eta 0:00:20\n",
      "   -------------- ------------------------- 9.2/25.2 MB 842.9 kB/s eta 0:00:20\n",
      "   -------------- ------------------------- 9.4/25.2 MB 844.7 kB/s eta 0:00:19\n",
      "   -------------- ------------------------- 9.4/25.2 MB 844.7 kB/s eta 0:00:19\n",
      "   -------------- ------------------------- 9.4/25.2 MB 844.7 kB/s eta 0:00:19\n",
      "   -------------- ------------------------- 9.4/25.2 MB 844.7 kB/s eta 0:00:19\n",
      "   --------------- ------------------------ 9.7/25.2 MB 804.4 kB/s eta 0:00:20\n",
      "   ---------------- ----------------------- 10.2/25.2 MB 828.0 kB/s eta 0:00:19\n",
      "   ---------------- ----------------------- 10.5/25.2 MB 844.7 kB/s eta 0:00:18\n",
      "   ---------------- ----------------------- 10.5/25.2 MB 844.7 kB/s eta 0:00:18\n",
      "   ----------------- ---------------------- 10.7/25.2 MB 841.3 kB/s eta 0:00:18\n",
      "   ----------------- ---------------------- 11.0/25.2 MB 845.7 kB/s eta 0:00:17\n",
      "   ----------------- ---------------------- 11.3/25.2 MB 850.5 kB/s eta 0:00:17\n",
      "   ------------------ --------------------- 11.8/25.2 MB 872.8 kB/s eta 0:00:16\n",
      "   ------------------- -------------------- 12.6/25.2 MB 913.6 kB/s eta 0:00:14\n",
      "   -------------------- ------------------- 13.1/25.2 MB 939.8 kB/s eta 0:00:13\n",
      "   --------------------- ------------------ 13.4/25.2 MB 948.0 kB/s eta 0:00:13\n",
      "   ---------------------- ----------------- 13.9/25.2 MB 968.4 kB/s eta 0:00:12\n",
      "   ---------------------- ----------------- 14.4/25.2 MB 989.9 kB/s eta 0:00:11\n",
      "   ---------------------- ----------------- 14.4/25.2 MB 989.9 kB/s eta 0:00:11\n",
      "   ---------------------- ----------------- 14.4/25.2 MB 989.9 kB/s eta 0:00:11\n",
      "   ---------------------- ----------------- 14.4/25.2 MB 989.9 kB/s eta 0:00:11\n",
      "   ---------------------- ----------------- 14.4/25.2 MB 989.9 kB/s eta 0:00:11\n",
      "   ----------------------- ---------------- 14.7/25.2 MB 943.8 kB/s eta 0:00:12\n",
      "   ------------------------ --------------- 15.5/25.2 MB 975.6 kB/s eta 0:00:11\n",
      "   ------------------------- -------------- 16.0/25.2 MB 1.0 MB/s eta 0:00:10\n",
      "   ------------------------- -------------- 16.0/25.2 MB 1.0 MB/s eta 0:00:10\n",
      "   ------------------------- -------------- 16.0/25.2 MB 1.0 MB/s eta 0:00:10\n",
      "   ------------------------- -------------- 16.0/25.2 MB 1.0 MB/s eta 0:00:10\n",
      "   ------------------------- -------------- 16.0/25.2 MB 1.0 MB/s eta 0:00:10\n",
      "   ------------------------- -------------- 16.0/25.2 MB 1.0 MB/s eta 0:00:10\n",
      "   ------------------------- -------------- 16.0/25.2 MB 1.0 MB/s eta 0:00:10\n",
      "   ------------------------- -------------- 16.0/25.2 MB 1.0 MB/s eta 0:00:10\n",
      "   -------------------------- ------------- 16.8/25.2 MB 949.1 kB/s eta 0:00:09\n",
      "   --------------------------- ------------ 17.6/25.2 MB 979.1 kB/s eta 0:00:08\n",
      "   ---------------------------- ----------- 18.1/25.2 MB 999.4 kB/s eta 0:00:08\n",
      "   ----------------------------- ---------- 18.6/25.2 MB 1.0 MB/s eta 0:00:07\n",
      "   ------------------------------ --------- 19.1/25.2 MB 1.0 MB/s eta 0:00:06\n",
      "   ------------------------------- -------- 19.7/25.2 MB 1.1 MB/s eta 0:00:06\n",
      "   ------------------------------- -------- 20.2/25.2 MB 1.1 MB/s eta 0:00:05\n",
      "   --------------------------------- ------ 21.0/25.2 MB 1.1 MB/s eta 0:00:04\n",
      "   ---------------------------------- ----- 21.5/25.2 MB 1.1 MB/s eta 0:00:04\n",
      "   ----------------------------------- ---- 22.3/25.2 MB 1.1 MB/s eta 0:00:03\n",
      "   ------------------------------------ --- 23.1/25.2 MB 1.2 MB/s eta 0:00:02\n",
      "   ------------------------------------- -- 23.9/25.2 MB 1.2 MB/s eta 0:00:02\n",
      "   -------------------------------------- - 24.4/25.2 MB 1.2 MB/s eta 0:00:01\n",
      "   ---------------------------------------  25.2/25.2 MB 1.2 MB/s eta 0:00:01\n",
      "   ---------------------------------------- 25.2/25.2 MB 1.2 MB/s eta 0:00:00\n",
      "Downloading pydeck-0.9.1-py2.py3-none-any.whl (6.9 MB)\n",
      "   ---------------------------------------- 0.0/6.9 MB ? eta -:--:--\n",
      "   - -------------------------------------- 0.3/6.9 MB ? eta -:--:--\n",
      "   ------ --------------------------------- 1.0/6.9 MB 3.0 MB/s eta 0:00:02\n",
      "   --------- ------------------------------ 1.6/6.9 MB 3.1 MB/s eta 0:00:02\n",
      "   ------------- -------------------------- 2.4/6.9 MB 3.0 MB/s eta 0:00:02\n",
      "   ---------------- ----------------------- 2.9/6.9 MB 3.1 MB/s eta 0:00:02\n",
      "   ------------------- -------------------- 3.4/6.9 MB 3.0 MB/s eta 0:00:02\n",
      "   ---------------------- ----------------- 3.9/6.9 MB 2.9 MB/s eta 0:00:02\n",
      "   ------------------------- -------------- 4.5/6.9 MB 2.7 MB/s eta 0:00:01\n",
      "   ---------------------------- ----------- 5.0/6.9 MB 2.7 MB/s eta 0:00:01\n",
      "   ------------------------------- -------- 5.5/6.9 MB 2.8 MB/s eta 0:00:01\n",
      "   ------------------------------------ --- 6.3/6.9 MB 2.8 MB/s eta 0:00:01\n",
      "   ------------------------------------- -- 6.6/6.9 MB 2.7 MB/s eta 0:00:01\n",
      "   ---------------------------------------- 6.9/6.9 MB 2.7 MB/s eta 0:00:00\n",
      "Downloading tenacity-9.1.2-py3-none-any.whl (28 kB)\n",
      "Downloading toml-0.10.2-py2.py3-none-any.whl (16 kB)\n",
      "Downloading watchdog-6.0.0-py3-none-win_amd64.whl (79 kB)\n",
      "Downloading narwhals-1.36.0-py3-none-any.whl (331 kB)\n",
      "Installing collected packages: watchdog, toml, tenacity, pyarrow, protobuf, narwhals, cachetools, pydeck, altair, streamlit\n",
      "Successfully installed altair-5.5.0 cachetools-5.5.2 narwhals-1.36.0 protobuf-5.29.4 pyarrow-19.0.1 pydeck-0.9.1 streamlit-1.44.1 tenacity-9.1.2 toml-0.10.2 watchdog-6.0.0\n",
      "Note: you may need to restart the kernel to use updated packages.\n"
     ]
    },
    {
     "name": "stderr",
     "output_type": "stream",
     "text": [
      "\n",
      "[notice] A new release of pip is available: 24.3.1 -> 25.1\n",
      "[notice] To update, run: python.exe -m pip install --upgrade pip\n"
     ]
    }
   ],
   "source": [
    "pip install streamlit\n"
   ]
  },
  {
   "cell_type": "code",
   "execution_count": null,
   "metadata": {},
   "outputs": [],
   "source": []
  }
 ],
 "metadata": {
  "kernelspec": {
   "display_name": "Python 3",
   "language": "python",
   "name": "python3"
  },
  "language_info": {
   "codemirror_mode": {
    "name": "ipython",
    "version": 3
   },
   "file_extension": ".py",
   "mimetype": "text/x-python",
   "name": "python",
   "nbconvert_exporter": "python",
   "pygments_lexer": "ipython3",
   "version": "3.13.2"
  }
 },
 "nbformat": 4,
 "nbformat_minor": 2
}
